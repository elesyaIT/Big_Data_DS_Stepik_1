{
  "nbformat": 4,
  "nbformat_minor": 0,
  "metadata": {
    "kernelspec": {
      "display_name": "Python 3",
      "language": "python",
      "name": "python3"
    },
    "language_info": {
      "codemirror_mode": {
        "name": "ipython",
        "version": 3
      },
      "file_extension": ".py",
      "mimetype": "text/x-python",
      "name": "python",
      "nbconvert_exporter": "python",
      "pygments_lexer": "ipython3",
      "version": "3.6.10"
    },
    "colab": {
      "provenance": [],
      "collapsed_sections": [
        "MRDGrVZ4qqWE",
        "mSlhy7hv1UH5"
      ]
    }
  },
  "cells": [
    {
      "cell_type": "markdown",
      "metadata": {
        "id": "MRDGrVZ4qqWE"
      },
      "source": [
        "# Часть 1: ML workflow"
      ]
    },
    {
      "cell_type": "markdown",
      "metadata": {
        "id": "KtcaLax5q3U7"
      },
      "source": [
        "В этой части занятия мы познакомимся с базовым процессом решения задачи машинного обучения. Мы пройдем путь от загрузки данных до обучения модели и тестирования.\n",
        "\n",
        "Задача, которую мы будем решать: задача предсказания сердечно-сосудистых заболеваний у людей. Ссылка на датасет: https://disk.yandex.ru/d/8CNIk7GdkBop2A"
      ]
    },
    {
      "cell_type": "markdown",
      "metadata": {
        "id": "H1KzKx0xqw26"
      },
      "source": [
        "## Скачивание данных"
      ]
    },
    {
      "cell_type": "code",
      "metadata": {
        "colab": {
          "base_uri": "https://localhost:8080/"
        },
        "id": "iLisRBa3_ohX",
        "outputId": "9cd9cbde-31e5-4b38-d3db-94c4ad2e75a2"
      },
      "source": [
        "! wget \"https://s486man.storage.yandex.net/rdisk/524cdd2fdc1d5d74283d090e2f7ec9987fd3a07da0391ea4c48541927bfc7009/612a8015/aZ8Akc9CqtcaAMvg9MkExaj2PXssqnFQLYpC1XoxdZyZ-UwfCx4HE_T6riPsgGNMZw62iGEx3DpUVka808Xj_A==?uid=316082386&filename=ssz_data_manual.zip&disposition=attachment&hash=&limit=0&content_type=application%2Fzip&owner_uid=316082386&fsize=821415&hid=0dda87ddf63d38e0cd3d6c03cfc27dd9&media_type=compressed&tknv=v2&etag=a9d77ccc420596c959e8c4fd827e7a1e&rtoken=kuzkOANveJYm&force_default=yes&ycrid=na-39802b6009f6e13a431625ac66ca51e0-downloader2f&ts=5caa2c0e06f40&s=36dbcfa0f5122c8319dfea62c2389797e00f4fe8b6bd2912779bce2e8e206602&pb=U2FsdGVkX18CQg-3f3w9xmOxkRX-btfb21nqLI0lNyAUJs3Fp-HSCcfXxx3ZKwJ_151yVtmqtTtE7dribRKd1JXDfzWcUPun5XH_HEplpFg\" -O data.zip"
      ],
      "execution_count": null,
      "outputs": [
        {
          "output_type": "stream",
          "text": [
            "--2021-08-28 14:45:35--  https://s486man.storage.yandex.net/rdisk/524cdd2fdc1d5d74283d090e2f7ec9987fd3a07da0391ea4c48541927bfc7009/612a8015/aZ8Akc9CqtcaAMvg9MkExaj2PXssqnFQLYpC1XoxdZyZ-UwfCx4HE_T6riPsgGNMZw62iGEx3DpUVka808Xj_A==?uid=316082386&filename=ssz_data_manual.zip&disposition=attachment&hash=&limit=0&content_type=application%2Fzip&owner_uid=316082386&fsize=821415&hid=0dda87ddf63d38e0cd3d6c03cfc27dd9&media_type=compressed&tknv=v2&etag=a9d77ccc420596c959e8c4fd827e7a1e&rtoken=kuzkOANveJYm&force_default=yes&ycrid=na-39802b6009f6e13a431625ac66ca51e0-downloader2f&ts=5caa2c0e06f40&s=36dbcfa0f5122c8319dfea62c2389797e00f4fe8b6bd2912779bce2e8e206602&pb=U2FsdGVkX18CQg-3f3w9xmOxkRX-btfb21nqLI0lNyAUJs3Fp-HSCcfXxx3ZKwJ_151yVtmqtTtE7dribRKd1JXDfzWcUPun5XH_HEplpFg\n",
            "Resolving s486man.storage.yandex.net (s486man.storage.yandex.net)... 37.140.143.11, 2a02:6b8:c01:14:0:41af:b98:ae5b\n",
            "Connecting to s486man.storage.yandex.net (s486man.storage.yandex.net)|37.140.143.11|:443... connected.\n",
            "HTTP request sent, awaiting response... 200 OK\n",
            "Length: 821415 (802K) [application/zip]\n",
            "Saving to: ‘data.zip’\n",
            "\n",
            "data.zip            100%[===================>] 802.16K  1.01MB/s    in 0.8s    \n",
            "\n",
            "2021-08-28 14:45:37 (1.01 MB/s) - ‘data.zip’ saved [821415/821415]\n",
            "\n"
          ],
          "name": "stdout"
        }
      ]
    },
    {
      "cell_type": "code",
      "metadata": {
        "colab": {
          "base_uri": "https://localhost:8080/"
        },
        "id": "N5yWJiVJMge2",
        "outputId": "3036f476-2772-4163-d1be-b009d790f25d"
      },
      "source": [
        "! unzip data.zip"
      ],
      "execution_count": null,
      "outputs": [
        {
          "output_type": "stream",
          "text": [
            "Archive:  data.zip\n",
            "   creating: ssz_data/\n",
            "  inflating: ssz_data/test.csv       \n",
            "  inflating: ssz_data/train.csv      \n"
          ],
          "name": "stdout"
        }
      ]
    },
    {
      "cell_type": "markdown",
      "metadata": {
        "id": "gBfNBuEV_oAU"
      },
      "source": [
        "\n",
        "Заметим, что данные уже разбиты на тренировочные и тестовые."
      ]
    },
    {
      "cell_type": "markdown",
      "metadata": {
        "id": "zaGzSFEoAVVE"
      },
      "source": [
        "## Загрузка данных"
      ]
    },
    {
      "cell_type": "code",
      "metadata": {
        "id": "kws33fECAXiy"
      },
      "source": [
        "import pandas as pd\n",
        "import numpy as np\n",
        "import matplotlib.pyplot as plt"
      ],
      "execution_count": null,
      "outputs": []
    },
    {
      "cell_type": "code",
      "metadata": {
        "colab": {
          "base_uri": "https://localhost:8080/",
          "height": 201
        },
        "id": "XX7kUupPAdQ3",
        "outputId": "92f8d365-bf6f-4a34-e4d0-cfcb457c1f1c"
      },
      "source": [
        "train_data = pd.read_csv(\"ssz_data/train.csv\")\n",
        "train_data.head()"
      ],
      "execution_count": null,
      "outputs": [
        {
          "output_type": "execute_result",
          "data": {
            "text/html": [
              "<div>\n",
              "<style scoped>\n",
              "    .dataframe tbody tr th:only-of-type {\n",
              "        vertical-align: middle;\n",
              "    }\n",
              "\n",
              "    .dataframe tbody tr th {\n",
              "        vertical-align: top;\n",
              "    }\n",
              "\n",
              "    .dataframe thead th {\n",
              "        text-align: right;\n",
              "    }\n",
              "</style>\n",
              "<table border=\"1\" class=\"dataframe\">\n",
              "  <thead>\n",
              "    <tr style=\"text-align: right;\">\n",
              "      <th></th>\n",
              "      <th>id</th>\n",
              "      <th>age</th>\n",
              "      <th>gender</th>\n",
              "      <th>height</th>\n",
              "      <th>weight</th>\n",
              "      <th>ap_hi</th>\n",
              "      <th>ap_lo</th>\n",
              "      <th>cholesterol</th>\n",
              "      <th>gluc</th>\n",
              "      <th>smoke</th>\n",
              "      <th>alco</th>\n",
              "      <th>active</th>\n",
              "      <th>cardio</th>\n",
              "    </tr>\n",
              "  </thead>\n",
              "  <tbody>\n",
              "    <tr>\n",
              "      <th>0</th>\n",
              "      <td>58036</td>\n",
              "      <td>18387</td>\n",
              "      <td>2</td>\n",
              "      <td>175</td>\n",
              "      <td>75.0</td>\n",
              "      <td>110</td>\n",
              "      <td>70</td>\n",
              "      <td>1</td>\n",
              "      <td>1</td>\n",
              "      <td>0</td>\n",
              "      <td>0</td>\n",
              "      <td>1</td>\n",
              "      <td>1</td>\n",
              "    </tr>\n",
              "    <tr>\n",
              "      <th>1</th>\n",
              "      <td>88981</td>\n",
              "      <td>23328</td>\n",
              "      <td>2</td>\n",
              "      <td>155</td>\n",
              "      <td>66.0</td>\n",
              "      <td>140</td>\n",
              "      <td>90</td>\n",
              "      <td>1</td>\n",
              "      <td>1</td>\n",
              "      <td>1</td>\n",
              "      <td>1</td>\n",
              "      <td>0</td>\n",
              "      <td>0</td>\n",
              "    </tr>\n",
              "    <tr>\n",
              "      <th>2</th>\n",
              "      <td>74325</td>\n",
              "      <td>17602</td>\n",
              "      <td>2</td>\n",
              "      <td>168</td>\n",
              "      <td>73.0</td>\n",
              "      <td>120</td>\n",
              "      <td>80</td>\n",
              "      <td>2</td>\n",
              "      <td>1</td>\n",
              "      <td>0</td>\n",
              "      <td>0</td>\n",
              "      <td>1</td>\n",
              "      <td>0</td>\n",
              "    </tr>\n",
              "    <tr>\n",
              "      <th>3</th>\n",
              "      <td>16519</td>\n",
              "      <td>23432</td>\n",
              "      <td>2</td>\n",
              "      <td>183</td>\n",
              "      <td>95.0</td>\n",
              "      <td>140</td>\n",
              "      <td>90</td>\n",
              "      <td>1</td>\n",
              "      <td>1</td>\n",
              "      <td>0</td>\n",
              "      <td>0</td>\n",
              "      <td>0</td>\n",
              "      <td>1</td>\n",
              "    </tr>\n",
              "    <tr>\n",
              "      <th>4</th>\n",
              "      <td>28981</td>\n",
              "      <td>23162</td>\n",
              "      <td>1</td>\n",
              "      <td>156</td>\n",
              "      <td>62.0</td>\n",
              "      <td>150</td>\n",
              "      <td>80</td>\n",
              "      <td>1</td>\n",
              "      <td>1</td>\n",
              "      <td>0</td>\n",
              "      <td>0</td>\n",
              "      <td>1</td>\n",
              "      <td>1</td>\n",
              "    </tr>\n",
              "  </tbody>\n",
              "</table>\n",
              "</div>"
            ],
            "text/plain": [
              "      id    age  gender  height  weight  ...  gluc  smoke  alco  active  cardio\n",
              "0  58036  18387       2     175    75.0  ...     1      0     0       1       1\n",
              "1  88981  23328       2     155    66.0  ...     1      1     1       0       0\n",
              "2  74325  17602       2     168    73.0  ...     1      0     0       1       0\n",
              "3  16519  23432       2     183    95.0  ...     1      0     0       0       1\n",
              "4  28981  23162       1     156    62.0  ...     1      0     0       1       1\n",
              "\n",
              "[5 rows x 13 columns]"
            ]
          },
          "metadata": {},
          "execution_count": 11
        }
      ]
    },
    {
      "cell_type": "code",
      "metadata": {
        "colab": {
          "base_uri": "https://localhost:8080/",
          "height": 201
        },
        "id": "3aEElLoeAnJW",
        "outputId": "b5f20569-81d9-4aef-c245-fa8cd6bf3129"
      },
      "source": [
        "test_data = pd.read_csv(\"ssz_data/test.csv\")\n",
        "test_data.head()"
      ],
      "execution_count": null,
      "outputs": [
        {
          "output_type": "execute_result",
          "data": {
            "text/html": [
              "<div>\n",
              "<style scoped>\n",
              "    .dataframe tbody tr th:only-of-type {\n",
              "        vertical-align: middle;\n",
              "    }\n",
              "\n",
              "    .dataframe tbody tr th {\n",
              "        vertical-align: top;\n",
              "    }\n",
              "\n",
              "    .dataframe thead th {\n",
              "        text-align: right;\n",
              "    }\n",
              "</style>\n",
              "<table border=\"1\" class=\"dataframe\">\n",
              "  <thead>\n",
              "    <tr style=\"text-align: right;\">\n",
              "      <th></th>\n",
              "      <th>id</th>\n",
              "      <th>age</th>\n",
              "      <th>gender</th>\n",
              "      <th>height</th>\n",
              "      <th>weight</th>\n",
              "      <th>ap_hi</th>\n",
              "      <th>ap_lo</th>\n",
              "      <th>cholesterol</th>\n",
              "      <th>gluc</th>\n",
              "      <th>smoke</th>\n",
              "      <th>alco</th>\n",
              "      <th>active</th>\n",
              "      <th>cardio</th>\n",
              "    </tr>\n",
              "  </thead>\n",
              "  <tbody>\n",
              "    <tr>\n",
              "      <th>0</th>\n",
              "      <td>36043</td>\n",
              "      <td>17646</td>\n",
              "      <td>2</td>\n",
              "      <td>165</td>\n",
              "      <td>65.0</td>\n",
              "      <td>120</td>\n",
              "      <td>80</td>\n",
              "      <td>1</td>\n",
              "      <td>1</td>\n",
              "      <td>0</td>\n",
              "      <td>0</td>\n",
              "      <td>0</td>\n",
              "      <td>1</td>\n",
              "    </tr>\n",
              "    <tr>\n",
              "      <th>1</th>\n",
              "      <td>44455</td>\n",
              "      <td>20418</td>\n",
              "      <td>1</td>\n",
              "      <td>161</td>\n",
              "      <td>77.0</td>\n",
              "      <td>120</td>\n",
              "      <td>70</td>\n",
              "      <td>1</td>\n",
              "      <td>1</td>\n",
              "      <td>0</td>\n",
              "      <td>0</td>\n",
              "      <td>1</td>\n",
              "      <td>1</td>\n",
              "    </tr>\n",
              "    <tr>\n",
              "      <th>2</th>\n",
              "      <td>61323</td>\n",
              "      <td>20347</td>\n",
              "      <td>1</td>\n",
              "      <td>165</td>\n",
              "      <td>88.0</td>\n",
              "      <td>120</td>\n",
              "      <td>80</td>\n",
              "      <td>2</td>\n",
              "      <td>2</td>\n",
              "      <td>0</td>\n",
              "      <td>0</td>\n",
              "      <td>1</td>\n",
              "      <td>1</td>\n",
              "    </tr>\n",
              "    <tr>\n",
              "      <th>3</th>\n",
              "      <td>27780</td>\n",
              "      <td>18086</td>\n",
              "      <td>2</td>\n",
              "      <td>170</td>\n",
              "      <td>91.0</td>\n",
              "      <td>120</td>\n",
              "      <td>80</td>\n",
              "      <td>3</td>\n",
              "      <td>3</td>\n",
              "      <td>0</td>\n",
              "      <td>0</td>\n",
              "      <td>1</td>\n",
              "      <td>1</td>\n",
              "    </tr>\n",
              "    <tr>\n",
              "      <th>4</th>\n",
              "      <td>54273</td>\n",
              "      <td>21791</td>\n",
              "      <td>1</td>\n",
              "      <td>158</td>\n",
              "      <td>67.0</td>\n",
              "      <td>130</td>\n",
              "      <td>80</td>\n",
              "      <td>1</td>\n",
              "      <td>1</td>\n",
              "      <td>0</td>\n",
              "      <td>0</td>\n",
              "      <td>1</td>\n",
              "      <td>1</td>\n",
              "    </tr>\n",
              "  </tbody>\n",
              "</table>\n",
              "</div>"
            ],
            "text/plain": [
              "      id    age  gender  height  weight  ...  gluc  smoke  alco  active  cardio\n",
              "0  36043  17646       2     165    65.0  ...     1      0     0       0       1\n",
              "1  44455  20418       1     161    77.0  ...     1      0     0       1       1\n",
              "2  61323  20347       1     165    88.0  ...     2      0     0       1       1\n",
              "3  27780  18086       2     170    91.0  ...     3      0     0       1       1\n",
              "4  54273  21791       1     158    67.0  ...     1      0     0       1       1\n",
              "\n",
              "[5 rows x 13 columns]"
            ]
          },
          "metadata": {},
          "execution_count": 12
        }
      ]
    },
    {
      "cell_type": "markdown",
      "metadata": {
        "id": "ZmMGtpSkAtG_"
      },
      "source": [
        "Видим, что, как и должно быть, тестовые данные содержат все слолбцы, что есть в тренировочных данных, кроме столбца с целевой переменной — \"cardio\". Целевая переменная принимает значения 0 или 1. 0 значит, что у человека нет ССЗ, 1 — что есть. \n",
        "\n",
        "Таким образом, наша задача — задача бинарной классификации."
      ]
    },
    {
      "cell_type": "markdown",
      "metadata": {
        "id": "anw6d5rQBtXA"
      },
      "source": [
        "Давайте посмотрим на информацию о признаках в данных:"
      ]
    },
    {
      "cell_type": "code",
      "metadata": {
        "colab": {
          "base_uri": "https://localhost:8080/"
        },
        "id": "WyOsbd5dBpot",
        "outputId": "9f1657e2-b345-4607-e1fd-f060eb5d5805"
      },
      "source": [
        "train_data.info()"
      ],
      "execution_count": null,
      "outputs": [
        {
          "output_type": "stream",
          "text": [
            "<class 'pandas.core.frame.DataFrame'>\n",
            "RangeIndex: 58000 entries, 0 to 57999\n",
            "Data columns (total 13 columns):\n",
            " #   Column       Non-Null Count  Dtype  \n",
            "---  ------       --------------  -----  \n",
            " 0   id           58000 non-null  int64  \n",
            " 1   age          58000 non-null  int64  \n",
            " 2   gender       58000 non-null  int64  \n",
            " 3   height       58000 non-null  int64  \n",
            " 4   weight       58000 non-null  float64\n",
            " 5   ap_hi        58000 non-null  int64  \n",
            " 6   ap_lo        58000 non-null  int64  \n",
            " 7   cholesterol  58000 non-null  int64  \n",
            " 8   gluc         58000 non-null  int64  \n",
            " 9   smoke        58000 non-null  int64  \n",
            " 10  alco         58000 non-null  int64  \n",
            " 11  active       58000 non-null  int64  \n",
            " 12  cardio       58000 non-null  int64  \n",
            "dtypes: float64(1), int64(12)\n",
            "memory usage: 5.8 MB\n"
          ],
          "name": "stdout"
        }
      ]
    },
    {
      "cell_type": "markdown",
      "metadata": {
        "id": "QOWjFnoHFWoJ"
      },
      "source": [
        "Видим, что в данных нет пропусков и что все данные представлены в числовом виде. На таких данных можно обучать модель машинного обучения. Конечно, в реальных задачах перед этапом обучения моделей есть еще этап предобработки данных — и этот этап занимает бóльшую часть времени дата саентиста. Но об это мы поговорим в следующей части нашего занятия. Пока давайте просто научимся обучать и тестировать модели машинного обучения."
      ]
    },
    {
      "cell_type": "markdown",
      "metadata": {
        "id": "SFjUMxXcGzkd"
      },
      "source": [
        "Поделим тренировочные данные на признаки и целевую переменную. Это нужно, потому что на вход моделям машинного обучения признаки и целевая переменная подаются отдельно."
      ]
    },
    {
      "cell_type": "code",
      "metadata": {
        "id": "bVpi-D5qHDjg"
      },
      "source": [
        "X_train = train_data.drop(columns=['cardio'])\n",
        "y_train = train_data['cardio']"
      ],
      "execution_count": null,
      "outputs": []
    },
    {
      "cell_type": "markdown",
      "metadata": {
        "id": "Erg9zpE0HaAi"
      },
      "source": [
        "То же самое для текстовых данных:"
      ]
    },
    {
      "cell_type": "code",
      "metadata": {
        "id": "NeJ3W-foHXdF"
      },
      "source": [
        "X_test = test_data.drop(columns=['cardio'])\n",
        "y_test = test_data['cardio']"
      ],
      "execution_count": null,
      "outputs": []
    },
    {
      "cell_type": "markdown",
      "metadata": {
        "id": "p-XIo994F4eb"
      },
      "source": [
        "## Обучение моделей"
      ]
    },
    {
      "cell_type": "markdown",
      "metadata": {
        "id": "jA9hz5zHF887"
      },
      "source": [
        "Обучим две модели машинного обучения: логистическую регрессию и случайный лес."
      ]
    },
    {
      "cell_type": "markdown",
      "metadata": {
        "id": "vGe5aOZUGSe_"
      },
      "source": [
        "### Логистическая регрессия"
      ]
    },
    {
      "cell_type": "markdown",
      "metadata": {
        "id": "TWi8bcK1Gb6N"
      },
      "source": [
        "Документация: http://scikit-learn.org/stable/modules/generated/sklearn.linear_model.LogisticRegression.html"
      ]
    },
    {
      "cell_type": "code",
      "metadata": {
        "id": "SQUg4vo2GYQJ"
      },
      "source": [
        "# импортируем логрегрессию из библиотеки sklearn\n",
        "from sklearn.linear_model import LogisticRegression"
      ],
      "execution_count": null,
      "outputs": []
    },
    {
      "cell_type": "markdown",
      "metadata": {
        "id": "hJag_WymNVQ1"
      },
      "source": [
        "Заводим экземпляр класса нашей модели:"
      ]
    },
    {
      "cell_type": "code",
      "metadata": {
        "id": "jrz3qri-GpdA"
      },
      "source": [
        "logreg = LogisticRegression()"
      ],
      "execution_count": null,
      "outputs": []
    },
    {
      "cell_type": "markdown",
      "metadata": {
        "id": "7hFQxi6RNckP"
      },
      "source": [
        "Чтобы обучить модель, нужно вызвать у нее функцию fit (в переводе с английского — \"обучиться\", \"подстроиться\"). В fit нужно передать два аргумента: тренировочные данные и ответы к тренировочным данным. Именно потому что модели из sklearn для обучения принимают признаки и целевую переменную в разных аргументах, мы выше делили train_data на две переменные X_train и y_train."
      ]
    },
    {
      "cell_type": "code",
      "metadata": {
        "colab": {
          "base_uri": "https://localhost:8080/"
        },
        "id": "qSpun45BGtsR",
        "outputId": "78c178a7-3d51-4c11-c808-b16587393906"
      },
      "source": [
        "logreg.fit(X_train, y_train)"
      ],
      "execution_count": null,
      "outputs": [
        {
          "output_type": "execute_result",
          "data": {
            "text/plain": [
              "LogisticRegression(C=1.0, class_weight=None, dual=False, fit_intercept=True,\n",
              "                   intercept_scaling=1, l1_ratio=None, max_iter=100,\n",
              "                   multi_class='auto', n_jobs=None, penalty='l2',\n",
              "                   random_state=None, solver='lbfgs', tol=0.0001, verbose=0,\n",
              "                   warm_start=False)"
            ]
          },
          "metadata": {},
          "execution_count": 19
        }
      ]
    },
    {
      "cell_type": "markdown",
      "metadata": {
        "id": "Mx-geZvqOEVS"
      },
      "source": [
        "Все! Теперь в переменной logreg у нас лежит обученная модель, которая может давать предсказания на новые данные. Ничего больше для обучения модели делать не нужно: вся магия, о которой вы слышали на теоретических занятиях, происходит внутри библиотеки sklearn. Ничего руками обучать не нужно."
      ]
    },
    {
      "cell_type": "markdown",
      "metadata": {
        "id": "mPu7dlakOVKK"
      },
      "source": [
        "Давайте попросим у обученной логистической регрессии ответы на тестовые данные: для этого нужно вызвать функцию predict (с английского — \"предскажи\"), и передать ей тестовые данные (без ответов, разумеется! Ведь мы же хотим, чтобы логрегрессия предсказала нам эти ответы =)"
      ]
    },
    {
      "cell_type": "code",
      "metadata": {
        "id": "k7lKea_wH1nS"
      },
      "source": [
        "y_predicted_logreg = logreg.predict(X_test)"
      ],
      "execution_count": null,
      "outputs": []
    },
    {
      "cell_type": "code",
      "metadata": {
        "colab": {
          "base_uri": "https://localhost:8080/"
        },
        "id": "0REMN2J6Jzf6",
        "outputId": "9e8c872a-0036-4e3e-cd0f-8f0e9e75a566"
      },
      "source": [
        "y_predicted_logreg"
      ],
      "execution_count": null,
      "outputs": [
        {
          "output_type": "execute_result",
          "data": {
            "text/plain": [
              "array([0, 1, 1, ..., 0, 1, 1])"
            ]
          },
          "metadata": {},
          "execution_count": 21
        }
      ]
    },
    {
      "cell_type": "markdown",
      "metadata": {
        "id": "_XwWhllCOvO2"
      },
      "source": [
        "Как видим, в переменной y_predicted_logreg теперь находятся ответы на каждцю строчку тестовых данных. Давайте выведем первые 10 ответов модели и первые 10 правильных ответов:"
      ]
    },
    {
      "cell_type": "code",
      "metadata": {
        "colab": {
          "base_uri": "https://localhost:8080/"
        },
        "id": "VEh3InaNO7M2",
        "outputId": "6d483f85-66cf-41bc-d0fb-4e0d90d8159e"
      },
      "source": [
        "y_predicted_logreg[:10]"
      ],
      "execution_count": null,
      "outputs": [
        {
          "output_type": "execute_result",
          "data": {
            "text/plain": [
              "array([0, 1, 1, 0, 1, 1, 0, 0, 1, 0])"
            ]
          },
          "metadata": {},
          "execution_count": 22
        }
      ]
    },
    {
      "cell_type": "code",
      "metadata": {
        "colab": {
          "base_uri": "https://localhost:8080/"
        },
        "id": "5agmnkw4J14W",
        "outputId": "f006cf6c-7248-437a-efa9-2e1863f7831f"
      },
      "source": [
        "np.array(y_test)[:10]"
      ],
      "execution_count": null,
      "outputs": [
        {
          "output_type": "execute_result",
          "data": {
            "text/plain": [
              "array([1, 1, 1, 1, 1, 1, 0, 0, 0, 0])"
            ]
          },
          "metadata": {},
          "execution_count": 23
        }
      ]
    },
    {
      "cell_type": "markdown",
      "metadata": {
        "id": "opk72b8IO_NE"
      },
      "source": [
        "Видим, что в некоторых случаях наша модель ошиблась, а в некоторых дала правильный ответ. Прежде чем выяснять, что же с этим делать, давайте обучим на наших данных еще одну модель машинного обучения:"
      ]
    },
    {
      "cell_type": "markdown",
      "metadata": {
        "id": "XjW8KvVDKpqp"
      },
      "source": [
        "### Случайный лес"
      ]
    },
    {
      "cell_type": "markdown",
      "metadata": {
        "id": "8UesIcPuKtoj"
      },
      "source": [
        "Документация: https://scikit-learn.org/stable/modules/generated/sklearn.ensemble.RandomForestClassifier.html"
      ]
    },
    {
      "cell_type": "code",
      "metadata": {
        "id": "lbW-LgYUKyrV"
      },
      "source": [
        "# импортируем случайный лес из библиотеки sklearn\n",
        "from sklearn.ensemble import RandomForestClassifier"
      ],
      "execution_count": null,
      "outputs": []
    },
    {
      "cell_type": "markdown",
      "metadata": {
        "id": "EB2SSqSCPO-E"
      },
      "source": [
        "Случайный лес — модель, совершенно идейно отличающаяся от логистической регрессии. Логрегрессия строит разделяющую плоскость, а случайный лес — много решающих деревьев с решающими правилами. Но при этом процесс обучения этих двух моделей (и многих других моделей из sklearn) в коде — совершенно одинаков. Для случайного леса, как и для логрегрессии, нужно:\n",
        "- завести экземпляр класса\n",
        "- вызвать функцию fit, передав ей в качестве аргументов тренировочные данные и ответы на них\n",
        "- для получения предсказаний вызвать функцию predict, передав ей в качестве аргумента данные, на которые хочется получить предсказания.\n",
        "\n",
        "То, что в sklearn процесс обучения и получения предсказаний для всех моделей машинного обучения одинаков — это очень удобно. Тот же самый проуесс будет и для других моделей: SVM, KNN, многих других. "
      ]
    },
    {
      "cell_type": "markdown",
      "metadata": {
        "id": "VIEQSuGYQMgK"
      },
      "source": [
        "Итак, заведем экземпляр класса Random Forest:\n",
        "\n",
        "Заметим, что у RandomForest есть много разных параметров, которые можно задать: количество деревьев в лесу, максимальная глубина каждого дерева и т.д. (полный список параметров и их описания читайте в документации sklearn, ссылка была выше). \n",
        "\n",
        "Не обязательно задавать все параметры: у них есть значения по умолчанию, которые применятся, если вы их не зададите. Давайте ради интереса зададим два параметра: количество деревьев, которые будет обучать (n_estimators) — пусть их будет 20; и максимальную глубину каждого дерева (max_depth) — пусть она будет 10."
      ]
    },
    {
      "cell_type": "code",
      "metadata": {
        "id": "rmmKku8kK50t"
      },
      "source": [
        "rf = RandomForestClassifier(n_estimators=20, max_depth=10)"
      ],
      "execution_count": null,
      "outputs": []
    },
    {
      "cell_type": "markdown",
      "metadata": {
        "id": "lMeB63iSQRx5"
      },
      "source": [
        "Обучим:"
      ]
    },
    {
      "cell_type": "code",
      "metadata": {
        "colab": {
          "base_uri": "https://localhost:8080/"
        },
        "id": "vKkfFsIVLNNr",
        "outputId": "c9d84d70-433b-44dd-a6c1-169601c3701c"
      },
      "source": [
        "rf.fit(X_train, y_train)"
      ],
      "execution_count": null,
      "outputs": [
        {
          "output_type": "execute_result",
          "data": {
            "text/plain": [
              "RandomForestClassifier(bootstrap=True, ccp_alpha=0.0, class_weight=None,\n",
              "                       criterion='gini', max_depth=10, max_features='auto',\n",
              "                       max_leaf_nodes=None, max_samples=None,\n",
              "                       min_impurity_decrease=0.0, min_impurity_split=None,\n",
              "                       min_samples_leaf=1, min_samples_split=2,\n",
              "                       min_weight_fraction_leaf=0.0, n_estimators=20,\n",
              "                       n_jobs=None, oob_score=False, random_state=None,\n",
              "                       verbose=0, warm_start=False)"
            ]
          },
          "metadata": {},
          "execution_count": 26
        }
      ]
    },
    {
      "cell_type": "markdown",
      "metadata": {
        "id": "hACX_eIKQS3e"
      },
      "source": [
        "Получим предсказания на тесте:"
      ]
    },
    {
      "cell_type": "code",
      "metadata": {
        "id": "3GmLNxdULQaL"
      },
      "source": [
        "y_predicted_rf = rf.predict(X_test)"
      ],
      "execution_count": null,
      "outputs": []
    },
    {
      "cell_type": "code",
      "metadata": {
        "colab": {
          "base_uri": "https://localhost:8080/"
        },
        "id": "SiX1rGBWLWK3",
        "outputId": "f02fcd05-be30-4371-e019-91284a17b5f8"
      },
      "source": [
        "y_predicted_rf[:10]"
      ],
      "execution_count": null,
      "outputs": [
        {
          "output_type": "execute_result",
          "data": {
            "text/plain": [
              "array([0, 0, 0, 1, 1, 1, 0, 0, 1, 0])"
            ]
          },
          "metadata": {},
          "execution_count": 28
        }
      ]
    },
    {
      "cell_type": "code",
      "metadata": {
        "colab": {
          "base_uri": "https://localhost:8080/"
        },
        "id": "Vn5-bMLKLZ_w",
        "outputId": "fdf91c15-179e-448b-e74b-612022e02356"
      },
      "source": [
        "np.array(y_test)[:10]"
      ],
      "execution_count": null,
      "outputs": [
        {
          "output_type": "execute_result",
          "data": {
            "text/plain": [
              "array([1, 1, 1, 1, 1, 1, 0, 0, 0, 0])"
            ]
          },
          "metadata": {},
          "execution_count": 29
        }
      ]
    },
    {
      "cell_type": "markdown",
      "metadata": {
        "id": "fnxZ36FSQ_Pm"
      },
      "source": [
        "Опять видим, что наш случайный лес где-то выдает правильные ответы, а где-то ошибается. "
      ]
    },
    {
      "cell_type": "markdown",
      "metadata": {
        "id": "zi559CAeRZVf"
      },
      "source": [
        "Но как понять, какая из моделей — logreg или random forest — лучше? Для этого существуют **метрики качества** — функции, которые оценивают, насколько хорошие модель выдала предсказания. Давайте посчитаем метрики качества для наших двух моделей:"
      ]
    },
    {
      "cell_type": "markdown",
      "metadata": {
        "id": "fOANWMK2Kx5P"
      },
      "source": [
        "## Метрики качества"
      ]
    },
    {
      "cell_type": "markdown",
      "metadata": {
        "id": "s22m1-7ILs8r"
      },
      "source": [
        "Чтобы оценить, насколько одна модель работает лучше, чем другая, посчитаем для ответов моделей на тестовой выборки метрики качества.\n",
        "\n",
        "Начнем с довольно простой метрики: **Accuracy** "
      ]
    },
    {
      "cell_type": "markdown",
      "metadata": {
        "id": "vHCn1PlgL7og"
      },
      "source": [
        "#### Accuracy"
      ]
    },
    {
      "cell_type": "markdown",
      "metadata": {
        "id": "HviKYFgDMBoB"
      },
      "source": [
        "Accuracy — это доля правильно угаданных ответов. Документация: https://scikit-learn.org/stable/modules/generated/sklearn.metrics.accuracy_score.html"
      ]
    },
    {
      "cell_type": "code",
      "metadata": {
        "id": "JjIG9rI3L6q4"
      },
      "source": [
        "from sklearn.metrics import accuracy_score"
      ],
      "execution_count": null,
      "outputs": []
    },
    {
      "cell_type": "code",
      "metadata": {
        "colab": {
          "base_uri": "https://localhost:8080/"
        },
        "id": "81m2C6sYMMs5",
        "outputId": "0752b99b-be59-4c88-8beb-8fe263543b75"
      },
      "source": [
        "accuracy_score(y_predicted_logreg, y_test)"
      ],
      "execution_count": null,
      "outputs": [
        {
          "output_type": "execute_result",
          "data": {
            "text/plain": [
              "0.6923333333333334"
            ]
          },
          "metadata": {},
          "execution_count": 31
        }
      ]
    },
    {
      "cell_type": "code",
      "metadata": {
        "colab": {
          "base_uri": "https://localhost:8080/"
        },
        "id": "5Eyah0wLMSlk",
        "outputId": "5b69dbe9-d394-4d2c-b813-d835faecee07"
      },
      "source": [
        "accuracy_score(y_predicted_rf, y_test)"
      ],
      "execution_count": null,
      "outputs": [
        {
          "output_type": "execute_result",
          "data": {
            "text/plain": [
              "0.732"
            ]
          },
          "metadata": {},
          "execution_count": 32
        }
      ]
    },
    {
      "cell_type": "markdown",
      "metadata": {
        "id": "BzAR6o5ySKe0"
      },
      "source": [
        "Видим, что с точки зрения Accuracy модель случайного леса работает лучше, чем модель линейной регрессии."
      ]
    },
    {
      "cell_type": "markdown",
      "metadata": {
        "id": "duR_ogurMtN_"
      },
      "source": [
        "#### F1"
      ]
    },
    {
      "cell_type": "markdown",
      "metadata": {
        "id": "LOrsEPTbMzVp"
      },
      "source": [
        "F1 — другая метрика качества бинарной классификации, используемая в машинном обучении. Документация: https://scikit-learn.org/stable/modules/generated/sklearn.metrics.f1_score.html"
      ]
    },
    {
      "cell_type": "code",
      "metadata": {
        "id": "_FArcW84NAQf"
      },
      "source": [
        "from sklearn.metrics import f1_score"
      ],
      "execution_count": null,
      "outputs": []
    },
    {
      "cell_type": "code",
      "metadata": {
        "colab": {
          "base_uri": "https://localhost:8080/"
        },
        "id": "_OawOrZvNDjw",
        "outputId": "75137c3e-0a37-400a-bd98-694dc2899013"
      },
      "source": [
        "f1_score(y_predicted_logreg, y_test)"
      ],
      "execution_count": null,
      "outputs": [
        {
          "output_type": "execute_result",
          "data": {
            "text/plain": [
              "0.6837416481069042"
            ]
          },
          "metadata": {},
          "execution_count": 34
        }
      ]
    },
    {
      "cell_type": "code",
      "metadata": {
        "colab": {
          "base_uri": "https://localhost:8080/"
        },
        "id": "wYGrwk2UNHAP",
        "outputId": "ea311336-5fb5-4c21-d079-b78c470f50a9"
      },
      "source": [
        "f1_score(y_predicted_rf, y_test)"
      ],
      "execution_count": null,
      "outputs": [
        {
          "output_type": "execute_result",
          "data": {
            "text/plain": [
              "0.7206878582595103"
            ]
          },
          "metadata": {},
          "execution_count": 35
        }
      ]
    },
    {
      "cell_type": "markdown",
      "metadata": {
        "id": "R0GuliGQSUGy"
      },
      "source": [
        "Видим, что с точки зрения F1 модель случайного леса также выдала лучшие предсказания, чем логрегрессия. "
      ]
    },
    {
      "cell_type": "markdown",
      "metadata": {
        "id": "wr38XeH2Sa9l"
      },
      "source": [
        "В машинном обучении существует много разных метрик для задач классификации и регрессии. Кроме Accuracy и F1 есть еще, например, logloss, ROC AUC, Precision, Recall, ...\n",
        "\n",
        "То, какую метрику лучше использовать для оценки работы того или иного алгоритма машинного обучения, зависит от постановки задачи и от данных."
      ]
    },
    {
      "cell_type": "markdown",
      "metadata": {
        "id": "_xnrsr6YTkps"
      },
      "source": [
        "На этом часть с введением в практическое обучение моделей закончено. Мы прошли путь от загрузки данных до обучения моделей машинного обучения на этих данных и получения их предсказания. Наши данные были \"чистые\", поэтому все было так просто. Обычно с данными приходится повозиться прежде чем на них можно будет обучать модели. Об этом поговорим во второй части урока:"
      ]
    },
    {
      "cell_type": "markdown",
      "metadata": {
        "id": "00dxoQ-joHx8"
      },
      "source": [
        "# Часть 2: предобработка данных"
      ]
    },
    {
      "cell_type": "markdown",
      "metadata": {
        "id": "R42XhKC2pj7O"
      },
      "source": [
        "В этой части мы будем работать с датасетом цен на дома в Мельбурне: https://www.kaggle.com/dansbecker/melbourne-housing-snapshot"
      ]
    },
    {
      "cell_type": "markdown",
      "metadata": {
        "id": "tsYODTS9prwN"
      },
      "source": [
        "## Скачивание данных"
      ]
    },
    {
      "cell_type": "code",
      "metadata": {
        "colab": {
          "base_uri": "https://localhost:8080/"
        },
        "id": "yiTuzrPuplGh",
        "outputId": "a7e412f3-cdd0-4d78-841a-ece0ed0818c2"
      },
      "source": [
        "! wget \"https://s133vla.storage.yandex.net/rdisk/0b3370df40da3000a4284b55262a4711b74a57bbe96d0040226a321aae312a98/612a7fee/2fSPJ7TzUTY3gHUuUz-Rmt4kS54cvB4xPfYjy4FHwehxzl6LyXI5M6KSBi-csyeQfQcIsv8tWiJYZDw5XBOMTQ==?uid=316082386&filename=melb_data.csv&disposition=attachment&hash=&limit=0&content_type=text%2Fcsv&owner_uid=316082386&fsize=2091239&hid=e3a2e5ee64afb6c3b0750f281fff740a&media_type=spreadsheet&tknv=v2&etag=97951ac7ad9b84596c1ca62319f7ef0d&rtoken=MAtkay9zdwAC&force_default=yes&ycrid=na-8487eac73fb9d43416c720cdd2cb2eca-downloader2f&ts=5caa2be8d5780&s=047b018130b4ff23d41c400ce567a2ef2c72cb58ef96a20b55596fee8f48f0fb&pb=U2FsdGVkX19ctsEu-h6AEIm2orwtJebDQsdv-oOBBK6f8naFk8sjOYiwyIcisEZbZD35x1GDhW1ehe_0rgNSH8MeiZwVVyNpicH-BlX2pt4\" -O data.csv"
      ],
      "execution_count": null,
      "outputs": [
        {
          "output_type": "stream",
          "text": [
            "--2021-08-28 15:12:24--  https://s133vla.storage.yandex.net/rdisk/0b3370df40da3000a4284b55262a4711b74a57bbe96d0040226a321aae312a98/612a7fee/2fSPJ7TzUTY3gHUuUz-Rmt4kS54cvB4xPfYjy4FHwehxzl6LyXI5M6KSBi-csyeQfQcIsv8tWiJYZDw5XBOMTQ==?uid=316082386&filename=melb_data.csv&disposition=attachment&hash=&limit=0&content_type=text%2Fcsv&owner_uid=316082386&fsize=2091239&hid=e3a2e5ee64afb6c3b0750f281fff740a&media_type=spreadsheet&tknv=v2&etag=97951ac7ad9b84596c1ca62319f7ef0d&rtoken=MAtkay9zdwAC&force_default=yes&ycrid=na-8487eac73fb9d43416c720cdd2cb2eca-downloader2f&ts=5caa2be8d5780&s=047b018130b4ff23d41c400ce567a2ef2c72cb58ef96a20b55596fee8f48f0fb&pb=U2FsdGVkX19ctsEu-h6AEIm2orwtJebDQsdv-oOBBK6f8naFk8sjOYiwyIcisEZbZD35x1GDhW1ehe_0rgNSH8MeiZwVVyNpicH-BlX2pt4\n",
            "Resolving s133vla.storage.yandex.net (s133vla.storage.yandex.net)... 77.88.39.23, 2a02:6b8:c0e:737:0:41af:7e8e:cd7c\n",
            "Connecting to s133vla.storage.yandex.net (s133vla.storage.yandex.net)|77.88.39.23|:443... connected.\n",
            "HTTP request sent, awaiting response... 200 OK\n",
            "Length: 2091239 (2.0M) [text/csv]\n",
            "Saving to: ‘data.csv’\n",
            "\n",
            "data.csv            100%[===================>]   1.99M  2.42MB/s    in 0.8s    \n",
            "\n",
            "2021-08-28 15:12:25 (2.42 MB/s) - ‘data.csv’ saved [2091239/2091239]\n",
            "\n"
          ],
          "name": "stdout"
        }
      ]
    },
    {
      "cell_type": "markdown",
      "metadata": {
        "id": "Y0xbSk8gan1c"
      },
      "source": [
        "## Загрузка данных"
      ]
    },
    {
      "cell_type": "code",
      "metadata": {
        "id": "7j4O_Ph-pj7R"
      },
      "source": [
        "import numpy as np\n",
        "import pandas as pd\n",
        "import matplotlib.pyplot as plt\n",
        "from sklearn.impute import KNNImputer"
      ],
      "execution_count": null,
      "outputs": []
    },
    {
      "cell_type": "code",
      "metadata": {
        "id": "_c9jyD4Jpj7R",
        "colab": {
          "base_uri": "https://localhost:8080/",
          "height": 336
        },
        "outputId": "e499647a-faf9-42df-f8a4-e3e7c82be0e6"
      },
      "source": [
        "data = pd.read_csv('./data.csv')\n",
        "data.head()"
      ],
      "execution_count": null,
      "outputs": [
        {
          "output_type": "execute_result",
          "data": {
            "text/html": [
              "<div>\n",
              "<style scoped>\n",
              "    .dataframe tbody tr th:only-of-type {\n",
              "        vertical-align: middle;\n",
              "    }\n",
              "\n",
              "    .dataframe tbody tr th {\n",
              "        vertical-align: top;\n",
              "    }\n",
              "\n",
              "    .dataframe thead th {\n",
              "        text-align: right;\n",
              "    }\n",
              "</style>\n",
              "<table border=\"1\" class=\"dataframe\">\n",
              "  <thead>\n",
              "    <tr style=\"text-align: right;\">\n",
              "      <th></th>\n",
              "      <th>Suburb</th>\n",
              "      <th>Address</th>\n",
              "      <th>Rooms</th>\n",
              "      <th>Type</th>\n",
              "      <th>Price</th>\n",
              "      <th>Method</th>\n",
              "      <th>SellerG</th>\n",
              "      <th>Date</th>\n",
              "      <th>Distance</th>\n",
              "      <th>Postcode</th>\n",
              "      <th>Bedroom2</th>\n",
              "      <th>Bathroom</th>\n",
              "      <th>Car</th>\n",
              "      <th>Landsize</th>\n",
              "      <th>BuildingArea</th>\n",
              "      <th>YearBuilt</th>\n",
              "      <th>CouncilArea</th>\n",
              "      <th>Lattitude</th>\n",
              "      <th>Longtitude</th>\n",
              "      <th>Regionname</th>\n",
              "      <th>Propertycount</th>\n",
              "    </tr>\n",
              "  </thead>\n",
              "  <tbody>\n",
              "    <tr>\n",
              "      <th>0</th>\n",
              "      <td>Abbotsford</td>\n",
              "      <td>85 Turner St</td>\n",
              "      <td>2</td>\n",
              "      <td>h</td>\n",
              "      <td>1480000.0</td>\n",
              "      <td>S</td>\n",
              "      <td>Biggin</td>\n",
              "      <td>3/12/2016</td>\n",
              "      <td>2.5</td>\n",
              "      <td>3067.0</td>\n",
              "      <td>2.0</td>\n",
              "      <td>1.0</td>\n",
              "      <td>1.0</td>\n",
              "      <td>202.0</td>\n",
              "      <td>NaN</td>\n",
              "      <td>NaN</td>\n",
              "      <td>Yarra</td>\n",
              "      <td>-37.7996</td>\n",
              "      <td>144.9984</td>\n",
              "      <td>Northern Metropolitan</td>\n",
              "      <td>4019.0</td>\n",
              "    </tr>\n",
              "    <tr>\n",
              "      <th>1</th>\n",
              "      <td>Abbotsford</td>\n",
              "      <td>25 Bloomburg St</td>\n",
              "      <td>2</td>\n",
              "      <td>h</td>\n",
              "      <td>1035000.0</td>\n",
              "      <td>S</td>\n",
              "      <td>Biggin</td>\n",
              "      <td>4/02/2016</td>\n",
              "      <td>2.5</td>\n",
              "      <td>3067.0</td>\n",
              "      <td>2.0</td>\n",
              "      <td>1.0</td>\n",
              "      <td>0.0</td>\n",
              "      <td>156.0</td>\n",
              "      <td>79.0</td>\n",
              "      <td>1900.0</td>\n",
              "      <td>Yarra</td>\n",
              "      <td>-37.8079</td>\n",
              "      <td>144.9934</td>\n",
              "      <td>Northern Metropolitan</td>\n",
              "      <td>4019.0</td>\n",
              "    </tr>\n",
              "    <tr>\n",
              "      <th>2</th>\n",
              "      <td>Abbotsford</td>\n",
              "      <td>5 Charles St</td>\n",
              "      <td>3</td>\n",
              "      <td>h</td>\n",
              "      <td>1465000.0</td>\n",
              "      <td>SP</td>\n",
              "      <td>Biggin</td>\n",
              "      <td>4/03/2017</td>\n",
              "      <td>2.5</td>\n",
              "      <td>3067.0</td>\n",
              "      <td>3.0</td>\n",
              "      <td>2.0</td>\n",
              "      <td>0.0</td>\n",
              "      <td>134.0</td>\n",
              "      <td>150.0</td>\n",
              "      <td>1900.0</td>\n",
              "      <td>Yarra</td>\n",
              "      <td>-37.8093</td>\n",
              "      <td>144.9944</td>\n",
              "      <td>Northern Metropolitan</td>\n",
              "      <td>4019.0</td>\n",
              "    </tr>\n",
              "    <tr>\n",
              "      <th>3</th>\n",
              "      <td>Abbotsford</td>\n",
              "      <td>40 Federation La</td>\n",
              "      <td>3</td>\n",
              "      <td>h</td>\n",
              "      <td>850000.0</td>\n",
              "      <td>PI</td>\n",
              "      <td>Biggin</td>\n",
              "      <td>4/03/2017</td>\n",
              "      <td>2.5</td>\n",
              "      <td>3067.0</td>\n",
              "      <td>3.0</td>\n",
              "      <td>2.0</td>\n",
              "      <td>1.0</td>\n",
              "      <td>94.0</td>\n",
              "      <td>NaN</td>\n",
              "      <td>NaN</td>\n",
              "      <td>Yarra</td>\n",
              "      <td>-37.7969</td>\n",
              "      <td>144.9969</td>\n",
              "      <td>Northern Metropolitan</td>\n",
              "      <td>4019.0</td>\n",
              "    </tr>\n",
              "    <tr>\n",
              "      <th>4</th>\n",
              "      <td>Abbotsford</td>\n",
              "      <td>55a Park St</td>\n",
              "      <td>4</td>\n",
              "      <td>h</td>\n",
              "      <td>1600000.0</td>\n",
              "      <td>VB</td>\n",
              "      <td>Nelson</td>\n",
              "      <td>4/06/2016</td>\n",
              "      <td>2.5</td>\n",
              "      <td>3067.0</td>\n",
              "      <td>3.0</td>\n",
              "      <td>1.0</td>\n",
              "      <td>2.0</td>\n",
              "      <td>120.0</td>\n",
              "      <td>142.0</td>\n",
              "      <td>2014.0</td>\n",
              "      <td>Yarra</td>\n",
              "      <td>-37.8072</td>\n",
              "      <td>144.9941</td>\n",
              "      <td>Northern Metropolitan</td>\n",
              "      <td>4019.0</td>\n",
              "    </tr>\n",
              "  </tbody>\n",
              "</table>\n",
              "</div>"
            ],
            "text/plain": [
              "       Suburb           Address  ...             Regionname Propertycount\n",
              "0  Abbotsford      85 Turner St  ...  Northern Metropolitan        4019.0\n",
              "1  Abbotsford   25 Bloomburg St  ...  Northern Metropolitan        4019.0\n",
              "2  Abbotsford      5 Charles St  ...  Northern Metropolitan        4019.0\n",
              "3  Abbotsford  40 Federation La  ...  Northern Metropolitan        4019.0\n",
              "4  Abbotsford       55a Park St  ...  Northern Metropolitan        4019.0\n",
              "\n",
              "[5 rows x 21 columns]"
            ]
          },
          "metadata": {},
          "execution_count": 39
        }
      ]
    },
    {
      "cell_type": "code",
      "metadata": {
        "id": "HCEF447Hpj7S"
      },
      "source": [
        "answer = data['Price']\n",
        "data = data.drop(columns=['Price'])"
      ],
      "execution_count": null,
      "outputs": []
    },
    {
      "cell_type": "markdown",
      "metadata": {
        "id": "5bFsS_w_pj7S"
      },
      "source": [
        "##  Деление выборки на train и test"
      ]
    },
    {
      "cell_type": "markdown",
      "metadata": {
        "id": "0-0OMdSHtaA3"
      },
      "source": [
        "В этом датасете заранее выборка не поделена на train и test. Нужно сделать это самим."
      ]
    },
    {
      "cell_type": "markdown",
      "metadata": {
        "id": "1Gen8P0Ypj7T"
      },
      "source": [
        "Никогда нельзя осуществлять предобработку данных на всем датасете до деления его на трейн и тест. Это нужно, чтобы избежать любого, даже косвенного использования информации из трейна в тестовом датасете."
      ]
    },
    {
      "cell_type": "code",
      "metadata": {
        "id": "_MGTpadDpj7T"
      },
      "source": [
        "from sklearn.model_selection import train_test_split"
      ],
      "execution_count": null,
      "outputs": []
    },
    {
      "cell_type": "code",
      "metadata": {
        "id": "roS1SrMqpj7V"
      },
      "source": [
        "X_train, X_test, y_train, y_test = train_test_split(data, answer, test_size=0.2) # test_size — какая доля данных пойдет в тестовую выборку"
      ],
      "execution_count": null,
      "outputs": []
    },
    {
      "cell_type": "markdown",
      "metadata": {
        "id": "xUrYdye2a0hN"
      },
      "source": [
        "Зачем вообще нужен train_test_split: почему нельзя просто разбить выборку на X_train и X_test, взяв 80% первых строк из data в X_train, а остальные оставить на X_test?\n",
        "\n",
        "Ответ такой: train_test_split делит выборку так, чтобы по каждому признаку и целевой переменной распределения тренировочной части и тестовой части были одинаковы. Чтобы обучающая выборка была \"такая же\", как тестовая: содержала ту же долю мужчин/женщин и т.п.\n",
        "\n",
        "Давайте убедимся, что train_test_split делит выборку на train и test так, чтобы распределения были одинаковы: построим гистограммы признаков."
      ]
    },
    {
      "cell_type": "code",
      "metadata": {
        "colab": {
          "base_uri": "https://localhost:8080/",
          "height": 605
        },
        "id": "t4YSnJ2ybeif",
        "outputId": "c7c8c78d-cf0e-4446-99dd-3847f3fbff90"
      },
      "source": [
        "X_train.hist(figsize=(18, 10));"
      ],
      "execution_count": null,
      "outputs": [
        {
          "output_type": "display_data",
          "data": {
            "image/png": "[encoded data removed]",
            "text/plain": [
              "<Figure size 1296x720 with 12 Axes>"
            ]
          },
          "metadata": {
            "needs_background": "light"
          }
        }
      ]
    },
    {
      "cell_type": "code",
      "metadata": {
        "colab": {
          "base_uri": "https://localhost:8080/",
          "height": 605
        },
        "id": "G0iv5KA3b9Uu",
        "outputId": "f00baed8-e86c-4c88-e602-075f6136b7e7"
      },
      "source": [
        "X_test.hist(figsize=(18, 10));"
      ],
      "execution_count": null,
      "outputs": [
        {
          "output_type": "display_data",
          "data": {
            "image/png": "[encoded data removed]",
            "text/plain": [
              "<Figure size 1296x720 with 12 Axes>"
            ]
          },
          "metadata": {
            "needs_background": "light"
          }
        }
      ]
    },
    {
      "cell_type": "markdown",
      "metadata": {
        "id": "HF96BK0AlnCF"
      },
      "source": [
        "Далее предобрабатывать мы будем только тренировочные данные (X_train). После того, как предобработаем X_train и обучим модели, предобработаем и X_test.\n",
        "\n",
        "Нельзя исследовать предобработку данных сразу на X_train и X_test, во избежание использования любой, даже косвенной информации из X_test во время решения, как предобработать X_train."
      ]
    },
    {
      "cell_type": "markdown",
      "metadata": {
        "id": "_np-6dBnzFhb"
      },
      "source": [
        "## Предобработка признаков:"
      ]
    },
    {
      "cell_type": "markdown",
      "metadata": {
        "id": "KJhk6849pj7W"
      },
      "source": [
        "### Работа с пропусками"
      ]
    },
    {
      "cell_type": "markdown",
      "metadata": {
        "id": "SA6aZXN1cDcD"
      },
      "source": [
        "Прежде чем обучать сеть и обрабатывать признаки, нужно заполнить пропуски в столбцах. Никакой (почти) алгоритм машинного обучения не умеет работать с данными с пропусками. "
      ]
    },
    {
      "cell_type": "markdown",
      "metadata": {
        "id": "2jmwXRiFcNLH"
      },
      "source": [
        "Посмотрим, в каких столбцах есть пропуски:"
      ]
    },
    {
      "cell_type": "code",
      "metadata": {
        "id": "UkXV4Hkdpj7W",
        "colab": {
          "base_uri": "https://localhost:8080/"
        },
        "outputId": "6b1991cf-c3c3-472d-ecc8-f012c49afe82"
      },
      "source": [
        "X_train.info()"
      ],
      "execution_count": null,
      "outputs": [
        {
          "output_type": "stream",
          "text": [
            "<class 'pandas.core.frame.DataFrame'>\n",
            "Int64Index: 10864 entries, 1913 to 8709\n",
            "Data columns (total 20 columns):\n",
            " #   Column         Non-Null Count  Dtype  \n",
            "---  ------         --------------  -----  \n",
            " 0   Suburb         10864 non-null  object \n",
            " 1   Address        10864 non-null  object \n",
            " 2   Rooms          10864 non-null  int64  \n",
            " 3   Type           10864 non-null  object \n",
            " 4   Method         10864 non-null  object \n",
            " 5   SellerG        10864 non-null  object \n",
            " 6   Date           10864 non-null  object \n",
            " 7   Distance       10864 non-null  float64\n",
            " 8   Postcode       10864 non-null  float64\n",
            " 9   Bedroom2       10864 non-null  float64\n",
            " 10  Bathroom       10864 non-null  float64\n",
            " 11  Car            10818 non-null  float64\n",
            " 12  Landsize       10864 non-null  float64\n",
            " 13  BuildingArea   5677 non-null   float64\n",
            " 14  YearBuilt      6553 non-null   float64\n",
            " 15  CouncilArea    9782 non-null   object \n",
            " 16  Lattitude      10864 non-null  float64\n",
            " 17  Longtitude     10864 non-null  float64\n",
            " 18  Regionname     10864 non-null  object \n",
            " 19  Propertycount  10864 non-null  float64\n",
            "dtypes: float64(11), int64(1), object(8)\n",
            "memory usage: 1.7+ MB\n"
          ],
          "name": "stdout"
        }
      ]
    },
    {
      "cell_type": "markdown",
      "metadata": {
        "id": "wzyx24HacQ1D"
      },
      "source": [
        "Видим, что пропуски есть в столбцах Car, BuildingArea, YearBuilt, CouncilArea."
      ]
    },
    {
      "cell_type": "markdown",
      "metadata": {
        "id": "_xBztQVT4Fkc"
      },
      "source": [
        "#### Заполнение константным значением"
      ]
    },
    {
      "cell_type": "markdown",
      "metadata": {
        "id": "Vjx6NmtscdXW"
      },
      "source": [
        "Есть разные стратегии заполнения пропусков в данных. Самая простая: заполнить все пропуски в столбце одним и тем же значением.\n",
        "\n",
        "Это значение может быть разным в зависимости от типа столбца и от ваших знаний о том, что за информация содержится в столбце. Иногда логично заполнить пропуски в числовом столбце нулями, а иногда — средним значением по столбцу.\n",
        "\n",
        "Если никаких особых идей по заполнению пропусков нет, то у числовых переменных пропуски чаще всего заполняются медианным значением по столбцу, а у категориальных переменных — самым часто встречающимся значением по столбцу.\n",
        "\n",
        "Для числовых признаков берется медиана (median), а не среднее (mean), потому что медиана меньше подвержена выбросам. Подумайте, какой средний и медианный возраст получится по столбцу \"возраст\" в данных, если у одного из людей в датасете в поле \"возраст\" стоит число 100000? Какое значение — mean или median — ближе отражает реальный \"средний\" возраст людей в датасете?"
      ]
    },
    {
      "cell_type": "markdown",
      "metadata": {
        "id": "3jVeVMPudaVI"
      },
      "source": [
        "Для заполнения пропусков в столбцах одним значением используется метод библиотеки pandas filna() (https://pandas.pydata.org/pandas-docs/stable/reference/api/pandas.DataFrame.fillna.html)"
      ]
    },
    {
      "cell_type": "code",
      "metadata": {
        "colab": {
          "base_uri": "https://localhost:8080/"
        },
        "id": "DyaNhzaYOShg",
        "outputId": "4106d32e-78da-4ade-ae7e-06a39f60c3da"
      },
      "source": [
        "# Car, BuildingArea и YearBuilt — числовые признаки, поэтому заполняем пропуски медианами по столбцам\n",
        "X_train['Car'] = X_train['Car'].fillna(X_train['Car'].median())\n",
        "X_train['BuildingArea'] = X_train['BuildingArea'].fillna(X_train['BuildingArea'].median())\n",
        "X_train['YearBuilt'] = X_train['YearBuilt'].fillna(X_train['YearBuilt'].median())\n",
        "\n",
        "# CouncilArea — категориальный признак, поэтому заполним наны самым часто встречающимся значением по столбцу\n",
        "\n",
        "most_frequent_value = X_train['CouncilArea'].value_counts().index[0] # получаем самое часто встречающееся значение признака CouncilArea\n",
        "# заполняем наны в столбце CouncilArea полученным значением\n",
        "X_train['CouncilArea'] = X_train['CouncilArea'].fillna(most_frequent_value)"
      ],
      "execution_count": null,
      "outputs": [
        {
          "output_type": "stream",
          "text": [
            "/usr/local/lib/python3.7/dist-packages/ipykernel_launcher.py:2: SettingWithCopyWarning: \n",
            "A value is trying to be set on a copy of a slice from a DataFrame.\n",
            "Try using .loc[row_indexer,col_indexer] = value instead\n",
            "\n",
            "See the caveats in the documentation: https://pandas.pydata.org/pandas-docs/stable/user_guide/indexing.html#returning-a-view-versus-a-copy\n",
            "  \n",
            "/usr/local/lib/python3.7/dist-packages/ipykernel_launcher.py:3: SettingWithCopyWarning: \n",
            "A value is trying to be set on a copy of a slice from a DataFrame.\n",
            "Try using .loc[row_indexer,col_indexer] = value instead\n",
            "\n",
            "See the caveats in the documentation: https://pandas.pydata.org/pandas-docs/stable/user_guide/indexing.html#returning-a-view-versus-a-copy\n",
            "  This is separate from the ipykernel package so we can avoid doing imports until\n",
            "/usr/local/lib/python3.7/dist-packages/ipykernel_launcher.py:4: SettingWithCopyWarning: \n",
            "A value is trying to be set on a copy of a slice from a DataFrame.\n",
            "Try using .loc[row_indexer,col_indexer] = value instead\n",
            "\n",
            "See the caveats in the documentation: https://pandas.pydata.org/pandas-docs/stable/user_guide/indexing.html#returning-a-view-versus-a-copy\n",
            "  after removing the cwd from sys.path.\n",
            "/usr/local/lib/python3.7/dist-packages/ipykernel_launcher.py:10: SettingWithCopyWarning: \n",
            "A value is trying to be set on a copy of a slice from a DataFrame.\n",
            "Try using .loc[row_indexer,col_indexer] = value instead\n",
            "\n",
            "See the caveats in the documentation: https://pandas.pydata.org/pandas-docs/stable/user_guide/indexing.html#returning-a-view-versus-a-copy\n",
            "  # Remove the CWD from sys.path while we load stuff.\n"
          ],
          "name": "stderr"
        }
      ]
    },
    {
      "cell_type": "markdown",
      "metadata": {
        "id": "rJotioEV4Kwm"
      },
      "source": [
        "#### KNNImputer"
      ]
    },
    {
      "cell_type": "markdown",
      "metadata": {
        "id": "TpYGSBmYePu7"
      },
      "source": [
        "Второй вариант заполнения пропусков в данных — построение KNN моделей.\n",
        "\n",
        "В чем суть: пусть у вас есть пропуски в колонке Car. Вы обучаете KNN на всем тренировочном датасете, но в качестве целевой переменной у вас Car. Обучаете, понятное дело, на тех строках, где в колонке Car значения не пропущены. Потом для всех строк, в которых в колонке Car значения пропущены, получаете предсказания KNN, и этими предсказаниями и заполняете пропуски. \n",
        "\n",
        "По сути, вы заполняете пропуски в строках, основываясь на значениях в колонке Car в тех строках, которые сильнее всего похожи на вашу строку с пропущенным значением. "
      ]
    },
    {
      "cell_type": "markdown",
      "metadata": {
        "id": "13Rx6FNxivHY"
      },
      "source": [
        "Есть хорошая новость: вам не нужно самому строить KNN, чтобы реализовать идею выше. В Sklearn есть KNNImputer, который сделает все за вас. При этом KNNImputer сразу заполнит пропуски во всех колонках ваших данных, в которых есть пропущенные значения, не нужно возиться с каждой колонкой отдельно.\n",
        "\n",
        "**Важно!** KNNImputer работает только если в данных нет категориальных колонок. К сожалению, ни одна модель машинного обучения из Sklearn не умеет работать с данными, в которых есть категориальные признаки. \n",
        "\n",
        "Если в ваших данных нет категориальных признаков, то заполнить пропуски с помощью KNNImputer можно так:"
      ]
    },
    {
      "cell_type": "code",
      "metadata": {
        "id": "eC-RxyJcR1XU"
      },
      "source": [
        "# заводим KNNImputer. Его же вы будете использовать для заполнения пропусков в тестовых данных\n",
        "imputer = KNNImputer(n_neighbors=5)\n",
        "# Обучаем KNNImputer на X_train\n",
        "imputer.fit(X_train)\n",
        "# Получаем новый new_X_train — данные как X_train, только без пропусков\n",
        "new_X_train = imputer.transform(X_train)"
      ],
      "execution_count": null,
      "outputs": []
    },
    {
      "cell_type": "markdown",
      "metadata": {
        "id": "q2N8Wg1TjrD4"
      },
      "source": [
        "Проверим, что в данных не осталось пропусков:"
      ]
    },
    {
      "cell_type": "code",
      "metadata": {
        "id": "f6nFX5QYN6qJ",
        "colab": {
          "base_uri": "https://localhost:8080/"
        },
        "outputId": "6e46568d-74f6-43aa-f768-65f7f4b4e068"
      },
      "source": [
        "X_train.isna().any()"
      ],
      "execution_count": null,
      "outputs": [
        {
          "output_type": "execute_result",
          "data": {
            "text/plain": [
              "Suburb           False\n",
              "Address          False\n",
              "Rooms            False\n",
              "Type             False\n",
              "Method           False\n",
              "SellerG          False\n",
              "Date             False\n",
              "Distance         False\n",
              "Postcode         False\n",
              "Bedroom2         False\n",
              "Bathroom         False\n",
              "Car              False\n",
              "Landsize         False\n",
              "BuildingArea     False\n",
              "YearBuilt        False\n",
              "CouncilArea      False\n",
              "Lattitude        False\n",
              "Longtitude       False\n",
              "Regionname       False\n",
              "Propertycount    False\n",
              "dtype: bool"
            ]
          },
          "metadata": {},
          "execution_count": 47
        }
      ]
    },
    {
      "cell_type": "markdown",
      "metadata": {
        "id": "FqYAWQ-OjzqW"
      },
      "source": [
        "Если везде выше False, то пропусков не осталось!"
      ]
    },
    {
      "cell_type": "markdown",
      "metadata": {
        "id": "lF2ZVPm-li8S"
      },
      "source": [
        "Посмотрим на наши тренировочные данные:"
      ]
    },
    {
      "cell_type": "code",
      "metadata": {
        "colab": {
          "base_uri": "https://localhost:8080/",
          "height": 352
        },
        "id": "0trAt2WPdW8y",
        "outputId": "6578ae97-957a-489c-d39d-a17cceac778c"
      },
      "source": [
        "X_train.head()"
      ],
      "execution_count": null,
      "outputs": [
        {
          "output_type": "execute_result",
          "data": {
            "text/html": [
              "<div>\n",
              "<style scoped>\n",
              "    .dataframe tbody tr th:only-of-type {\n",
              "        vertical-align: middle;\n",
              "    }\n",
              "\n",
              "    .dataframe tbody tr th {\n",
              "        vertical-align: top;\n",
              "    }\n",
              "\n",
              "    .dataframe thead th {\n",
              "        text-align: right;\n",
              "    }\n",
              "</style>\n",
              "<table border=\"1\" class=\"dataframe\">\n",
              "  <thead>\n",
              "    <tr style=\"text-align: right;\">\n",
              "      <th></th>\n",
              "      <th>Suburb</th>\n",
              "      <th>Address</th>\n",
              "      <th>Rooms</th>\n",
              "      <th>Type</th>\n",
              "      <th>Method</th>\n",
              "      <th>SellerG</th>\n",
              "      <th>Date</th>\n",
              "      <th>Distance</th>\n",
              "      <th>Postcode</th>\n",
              "      <th>Bedroom2</th>\n",
              "      <th>Bathroom</th>\n",
              "      <th>Car</th>\n",
              "      <th>Landsize</th>\n",
              "      <th>BuildingArea</th>\n",
              "      <th>YearBuilt</th>\n",
              "      <th>CouncilArea</th>\n",
              "      <th>Lattitude</th>\n",
              "      <th>Longtitude</th>\n",
              "      <th>Regionname</th>\n",
              "      <th>Propertycount</th>\n",
              "    </tr>\n",
              "  </thead>\n",
              "  <tbody>\n",
              "    <tr>\n",
              "      <th>1913</th>\n",
              "      <td>Coburg</td>\n",
              "      <td>10 Shackell St</td>\n",
              "      <td>3</td>\n",
              "      <td>h</td>\n",
              "      <td>S</td>\n",
              "      <td>Nelson</td>\n",
              "      <td>3/09/2016</td>\n",
              "      <td>7.8</td>\n",
              "      <td>3058.0</td>\n",
              "      <td>2.0</td>\n",
              "      <td>1.0</td>\n",
              "      <td>1.0</td>\n",
              "      <td>286.0</td>\n",
              "      <td>110.0</td>\n",
              "      <td>1890.0</td>\n",
              "      <td>Moreland</td>\n",
              "      <td>-37.74270</td>\n",
              "      <td>144.95200</td>\n",
              "      <td>Northern Metropolitan</td>\n",
              "      <td>11204.0</td>\n",
              "    </tr>\n",
              "    <tr>\n",
              "      <th>12104</th>\n",
              "      <td>North Melbourne</td>\n",
              "      <td>18/375 Abbotsford St</td>\n",
              "      <td>3</td>\n",
              "      <td>u</td>\n",
              "      <td>S</td>\n",
              "      <td>JMRE</td>\n",
              "      <td>29/07/2017</td>\n",
              "      <td>1.8</td>\n",
              "      <td>3051.0</td>\n",
              "      <td>3.0</td>\n",
              "      <td>1.0</td>\n",
              "      <td>1.0</td>\n",
              "      <td>1843.0</td>\n",
              "      <td>126.0</td>\n",
              "      <td>1960.0</td>\n",
              "      <td>Melbourne</td>\n",
              "      <td>-37.79773</td>\n",
              "      <td>144.94611</td>\n",
              "      <td>Northern Metropolitan</td>\n",
              "      <td>6821.0</td>\n",
              "    </tr>\n",
              "    <tr>\n",
              "      <th>8518</th>\n",
              "      <td>Williamstown</td>\n",
              "      <td>6 Caspian Tce</td>\n",
              "      <td>4</td>\n",
              "      <td>h</td>\n",
              "      <td>SP</td>\n",
              "      <td>Village</td>\n",
              "      <td>29/04/2017</td>\n",
              "      <td>8.0</td>\n",
              "      <td>3016.0</td>\n",
              "      <td>4.0</td>\n",
              "      <td>3.0</td>\n",
              "      <td>2.0</td>\n",
              "      <td>183.0</td>\n",
              "      <td>191.0</td>\n",
              "      <td>2006.0</td>\n",
              "      <td>Hobsons Bay</td>\n",
              "      <td>-37.85660</td>\n",
              "      <td>144.87370</td>\n",
              "      <td>Western Metropolitan</td>\n",
              "      <td>6380.0</td>\n",
              "    </tr>\n",
              "    <tr>\n",
              "      <th>127</th>\n",
              "      <td>Alphington</td>\n",
              "      <td>2/5 Yarana Rd</td>\n",
              "      <td>2</td>\n",
              "      <td>u</td>\n",
              "      <td>S</td>\n",
              "      <td>McGrath</td>\n",
              "      <td>12/11/2016</td>\n",
              "      <td>6.4</td>\n",
              "      <td>3078.0</td>\n",
              "      <td>2.0</td>\n",
              "      <td>1.0</td>\n",
              "      <td>1.0</td>\n",
              "      <td>0.0</td>\n",
              "      <td>126.0</td>\n",
              "      <td>1970.0</td>\n",
              "      <td>Darebin</td>\n",
              "      <td>-37.77730</td>\n",
              "      <td>145.03140</td>\n",
              "      <td>Northern Metropolitan</td>\n",
              "      <td>2211.0</td>\n",
              "    </tr>\n",
              "    <tr>\n",
              "      <th>12948</th>\n",
              "      <td>Craigieburn</td>\n",
              "      <td>32 Viewside Cr</td>\n",
              "      <td>4</td>\n",
              "      <td>h</td>\n",
              "      <td>S</td>\n",
              "      <td>Ray</td>\n",
              "      <td>19/08/2017</td>\n",
              "      <td>20.6</td>\n",
              "      <td>3064.0</td>\n",
              "      <td>4.0</td>\n",
              "      <td>2.0</td>\n",
              "      <td>2.0</td>\n",
              "      <td>448.0</td>\n",
              "      <td>126.0</td>\n",
              "      <td>1970.0</td>\n",
              "      <td>Boroondara</td>\n",
              "      <td>-37.57565</td>\n",
              "      <td>144.91365</td>\n",
              "      <td>Northern Metropolitan</td>\n",
              "      <td>15510.0</td>\n",
              "    </tr>\n",
              "  </tbody>\n",
              "</table>\n",
              "</div>"
            ],
            "text/plain": [
              "                Suburb  ... Propertycount\n",
              "1913            Coburg  ...       11204.0\n",
              "12104  North Melbourne  ...        6821.0\n",
              "8518      Williamstown  ...        6380.0\n",
              "127         Alphington  ...        2211.0\n",
              "12948      Craigieburn  ...       15510.0\n",
              "\n",
              "[5 rows x 20 columns]"
            ]
          },
          "metadata": {},
          "execution_count": 48
        }
      ]
    },
    {
      "cell_type": "markdown",
      "metadata": {
        "id": "WIZ3kw_DmEnF"
      },
      "source": [
        "### Категориальные признаки"
      ]
    },
    {
      "cell_type": "markdown",
      "metadata": {
        "id": "lgcb84zYmHup"
      },
      "source": [
        "Сначала предобработаем категориальные признаки. Посмотрим, какие столбцы датасета — категориальные."
      ]
    },
    {
      "cell_type": "code",
      "metadata": {
        "colab": {
          "base_uri": "https://localhost:8080/"
        },
        "id": "c5rgXQnEddau",
        "outputId": "348bbb2f-6a48-4f00-cdf1-490d07def58f"
      },
      "source": [
        "X_train.info()"
      ],
      "execution_count": null,
      "outputs": [
        {
          "output_type": "stream",
          "text": [
            "<class 'pandas.core.frame.DataFrame'>\n",
            "Int64Index: 10864 entries, 1913 to 8709\n",
            "Data columns (total 20 columns):\n",
            " #   Column         Non-Null Count  Dtype  \n",
            "---  ------         --------------  -----  \n",
            " 0   Suburb         10864 non-null  object \n",
            " 1   Address        10864 non-null  object \n",
            " 2   Rooms          10864 non-null  int64  \n",
            " 3   Type           10864 non-null  object \n",
            " 4   Method         10864 non-null  object \n",
            " 5   SellerG        10864 non-null  object \n",
            " 6   Date           10864 non-null  object \n",
            " 7   Distance       10864 non-null  float64\n",
            " 8   Postcode       10864 non-null  float64\n",
            " 9   Bedroom2       10864 non-null  float64\n",
            " 10  Bathroom       10864 non-null  float64\n",
            " 11  Car            10864 non-null  float64\n",
            " 12  Landsize       10864 non-null  float64\n",
            " 13  BuildingArea   10864 non-null  float64\n",
            " 14  YearBuilt      10864 non-null  float64\n",
            " 15  CouncilArea    10864 non-null  object \n",
            " 16  Lattitude      10864 non-null  float64\n",
            " 17  Longtitude     10864 non-null  float64\n",
            " 18  Regionname     10864 non-null  object \n",
            " 19  Propertycount  10864 non-null  float64\n",
            "dtypes: float64(11), int64(1), object(8)\n",
            "memory usage: 1.7+ MB\n"
          ],
          "name": "stdout"
        }
      ]
    },
    {
      "cell_type": "markdown",
      "metadata": {
        "id": "E1wNTB0omOJy"
      },
      "source": [
        "Категориальные — те признаки, у которых Dtype=object. На самом деле, и в числовых признаках могут скрываться категориальные, но об этом мы поговорим позже. Первичная задача — предобработать признаки, у которых Dtype=object."
      ]
    },
    {
      "cell_type": "markdown",
      "metadata": {
        "id": "YdrhYd7xr3pX"
      },
      "source": [
        "#### 1 способ: замена значений в столбце на числа\n",
        "\n",
        "Занумеровать уникальные значения в столбце и заменить каждое значение на его номер. \n",
        "\n",
        "Пример: в столбце Suburb есть значения:\n",
        "\n",
        "Reservoir  $\\ \\ \\ \\ \\ \\ \\ \\ $        1         \n",
        "Richmond     $\\ \\ \\ \\ \\ \\ \\ $      2 \\\\\n",
        "Bentleigh East   $\\  $  3 \\\\\n",
        "..."
      ]
    },
    {
      "cell_type": "markdown",
      "metadata": {
        "id": "52VcKyvItbMZ"
      },
      "source": [
        "Занумеровать значения в столбце можно двумя спосбами. \n",
        "\n",
        "1 способ: Руками:"
      ]
    },
    {
      "cell_type": "code",
      "metadata": {
        "id": "EkJONTmcewrK"
      },
      "source": [
        "from collections import defaultdict\n",
        "# создаем словарь {'Reservoir' : 1, 'Richmond' : 2, ...}\n",
        "dict_ = defaultdict(int)\n",
        "for i, x in enumerate(np.unique(X_train.Suburb)):\n",
        "    dict_[x] = i+1"
      ],
      "execution_count": null,
      "outputs": []
    },
    {
      "cell_type": "code",
      "metadata": {
        "colab": {
          "base_uri": "https://localhost:8080/"
        },
        "id": "T1qKJ1XafHKs",
        "outputId": "55f9b18d-82fa-4883-d61f-10de92e3ff33"
      },
      "source": [
        "# к каждому значению в колонке Suburb применяем функцию, которая ставит этому значению в соответствие число из dict_\n",
        "# про lambda-функции подробнее можно узнать тут: https://pythonru.com/osnovy/vse-chto-nuzhno-znat-o-lambda-funkcijah-v-python\n",
        "X_train['Suburb'] = X_train['Suburb'].apply(lambda x: dict_[x])"
      ],
      "execution_count": null,
      "outputs": [
        {
          "output_type": "stream",
          "text": [
            "/usr/local/lib/python3.7/dist-packages/ipykernel_launcher.py:3: SettingWithCopyWarning: \n",
            "A value is trying to be set on a copy of a slice from a DataFrame.\n",
            "Try using .loc[row_indexer,col_indexer] = value instead\n",
            "\n",
            "See the caveats in the documentation: https://pandas.pydata.org/pandas-docs/stable/user_guide/indexing.html#returning-a-view-versus-a-copy\n",
            "  This is separate from the ipykernel package so we can avoid doing imports until\n"
          ],
          "name": "stderr"
        }
      ]
    },
    {
      "cell_type": "markdown",
      "metadata": {
        "id": "IFzDzoBOunmW"
      },
      "source": [
        "Проверим, что получилось:"
      ]
    },
    {
      "cell_type": "code",
      "metadata": {
        "colab": {
          "base_uri": "https://localhost:8080/",
          "height": 352
        },
        "id": "IG2HOip7ujJm",
        "outputId": "a174d34a-4656-4881-fcae-3deee685802c"
      },
      "source": [
        "X_train.head()"
      ],
      "execution_count": null,
      "outputs": [
        {
          "output_type": "execute_result",
          "data": {
            "text/html": [
              "<div>\n",
              "<style scoped>\n",
              "    .dataframe tbody tr th:only-of-type {\n",
              "        vertical-align: middle;\n",
              "    }\n",
              "\n",
              "    .dataframe tbody tr th {\n",
              "        vertical-align: top;\n",
              "    }\n",
              "\n",
              "    .dataframe thead th {\n",
              "        text-align: right;\n",
              "    }\n",
              "</style>\n",
              "<table border=\"1\" class=\"dataframe\">\n",
              "  <thead>\n",
              "    <tr style=\"text-align: right;\">\n",
              "      <th></th>\n",
              "      <th>Suburb</th>\n",
              "      <th>Address</th>\n",
              "      <th>Rooms</th>\n",
              "      <th>Type</th>\n",
              "      <th>Method</th>\n",
              "      <th>SellerG</th>\n",
              "      <th>Date</th>\n",
              "      <th>Distance</th>\n",
              "      <th>Postcode</th>\n",
              "      <th>Bedroom2</th>\n",
              "      <th>Bathroom</th>\n",
              "      <th>Car</th>\n",
              "      <th>Landsize</th>\n",
              "      <th>BuildingArea</th>\n",
              "      <th>YearBuilt</th>\n",
              "      <th>CouncilArea</th>\n",
              "      <th>Lattitude</th>\n",
              "      <th>Longtitude</th>\n",
              "      <th>Regionname</th>\n",
              "      <th>Propertycount</th>\n",
              "    </tr>\n",
              "  </thead>\n",
              "  <tbody>\n",
              "    <tr>\n",
              "      <th>1913</th>\n",
              "      <td>80</td>\n",
              "      <td>10 Shackell St</td>\n",
              "      <td>3</td>\n",
              "      <td>h</td>\n",
              "      <td>S</td>\n",
              "      <td>Nelson</td>\n",
              "      <td>3/09/2016</td>\n",
              "      <td>7.8</td>\n",
              "      <td>3058.0</td>\n",
              "      <td>2.0</td>\n",
              "      <td>1.0</td>\n",
              "      <td>1.0</td>\n",
              "      <td>286.0</td>\n",
              "      <td>110.0</td>\n",
              "      <td>1890.0</td>\n",
              "      <td>Moreland</td>\n",
              "      <td>-37.74270</td>\n",
              "      <td>144.95200</td>\n",
              "      <td>Northern Metropolitan</td>\n",
              "      <td>11204.0</td>\n",
              "    </tr>\n",
              "    <tr>\n",
              "      <th>12104</th>\n",
              "      <td>213</td>\n",
              "      <td>18/375 Abbotsford St</td>\n",
              "      <td>3</td>\n",
              "      <td>u</td>\n",
              "      <td>S</td>\n",
              "      <td>JMRE</td>\n",
              "      <td>29/07/2017</td>\n",
              "      <td>1.8</td>\n",
              "      <td>3051.0</td>\n",
              "      <td>3.0</td>\n",
              "      <td>1.0</td>\n",
              "      <td>1.0</td>\n",
              "      <td>1843.0</td>\n",
              "      <td>126.0</td>\n",
              "      <td>1960.0</td>\n",
              "      <td>Melbourne</td>\n",
              "      <td>-37.79773</td>\n",
              "      <td>144.94611</td>\n",
              "      <td>Northern Metropolitan</td>\n",
              "      <td>6821.0</td>\n",
              "    </tr>\n",
              "    <tr>\n",
              "      <th>8518</th>\n",
              "      <td>299</td>\n",
              "      <td>6 Caspian Tce</td>\n",
              "      <td>4</td>\n",
              "      <td>h</td>\n",
              "      <td>SP</td>\n",
              "      <td>Village</td>\n",
              "      <td>29/04/2017</td>\n",
              "      <td>8.0</td>\n",
              "      <td>3016.0</td>\n",
              "      <td>4.0</td>\n",
              "      <td>3.0</td>\n",
              "      <td>2.0</td>\n",
              "      <td>183.0</td>\n",
              "      <td>191.0</td>\n",
              "      <td>2006.0</td>\n",
              "      <td>Hobsons Bay</td>\n",
              "      <td>-37.85660</td>\n",
              "      <td>144.87370</td>\n",
              "      <td>Western Metropolitan</td>\n",
              "      <td>6380.0</td>\n",
              "    </tr>\n",
              "    <tr>\n",
              "      <th>127</th>\n",
              "      <td>7</td>\n",
              "      <td>2/5 Yarana Rd</td>\n",
              "      <td>2</td>\n",
              "      <td>u</td>\n",
              "      <td>S</td>\n",
              "      <td>McGrath</td>\n",
              "      <td>12/11/2016</td>\n",
              "      <td>6.4</td>\n",
              "      <td>3078.0</td>\n",
              "      <td>2.0</td>\n",
              "      <td>1.0</td>\n",
              "      <td>1.0</td>\n",
              "      <td>0.0</td>\n",
              "      <td>126.0</td>\n",
              "      <td>1970.0</td>\n",
              "      <td>Darebin</td>\n",
              "      <td>-37.77730</td>\n",
              "      <td>145.03140</td>\n",
              "      <td>Northern Metropolitan</td>\n",
              "      <td>2211.0</td>\n",
              "    </tr>\n",
              "    <tr>\n",
              "      <th>12948</th>\n",
              "      <td>84</td>\n",
              "      <td>32 Viewside Cr</td>\n",
              "      <td>4</td>\n",
              "      <td>h</td>\n",
              "      <td>S</td>\n",
              "      <td>Ray</td>\n",
              "      <td>19/08/2017</td>\n",
              "      <td>20.6</td>\n",
              "      <td>3064.0</td>\n",
              "      <td>4.0</td>\n",
              "      <td>2.0</td>\n",
              "      <td>2.0</td>\n",
              "      <td>448.0</td>\n",
              "      <td>126.0</td>\n",
              "      <td>1970.0</td>\n",
              "      <td>Boroondara</td>\n",
              "      <td>-37.57565</td>\n",
              "      <td>144.91365</td>\n",
              "      <td>Northern Metropolitan</td>\n",
              "      <td>15510.0</td>\n",
              "    </tr>\n",
              "  </tbody>\n",
              "</table>\n",
              "</div>"
            ],
            "text/plain": [
              "       Suburb               Address  ...             Regionname Propertycount\n",
              "1913       80        10 Shackell St  ...  Northern Metropolitan       11204.0\n",
              "12104     213  18/375 Abbotsford St  ...  Northern Metropolitan        6821.0\n",
              "8518      299         6 Caspian Tce  ...   Western Metropolitan        6380.0\n",
              "127         7         2/5 Yarana Rd  ...  Northern Metropolitan        2211.0\n",
              "12948      84        32 Viewside Cr  ...  Northern Metropolitan       15510.0\n",
              "\n",
              "[5 rows x 20 columns]"
            ]
          },
          "metadata": {},
          "execution_count": 52
        }
      ]
    },
    {
      "cell_type": "markdown",
      "metadata": {
        "id": "cx_KM9qzupbS"
      },
      "source": [
        "Видим, что колонка Suburb стала числовой, как и ожидалось."
      ]
    },
    {
      "cell_type": "markdown",
      "metadata": {
        "id": "Dt5NfYmpucHr"
      },
      "source": [
        "**2 способ**, как можно перевести все значения в столбце в числа: использовать LabelEncoder из Sklearn: https://scikit-learn.org/stable/modules/generated/sklearn.preprocessing.LabelEncoder.html\n",
        "\n",
        "Так как колонку Suburb мы перевели в числа выше, давайте LabelEncoder применим к другому категориальному признаку: SellerG"
      ]
    },
    {
      "cell_type": "code",
      "metadata": {
        "id": "eO3eguZReKau"
      },
      "source": [
        "from sklearn.preprocessing import LabelEncoder"
      ],
      "execution_count": null,
      "outputs": []
    },
    {
      "cell_type": "code",
      "metadata": {
        "id": "B2MY2zKzgI7Q",
        "colab": {
          "base_uri": "https://localhost:8080/"
        },
        "outputId": "a7800fd2-a4ff-40e5-dcf7-2c2366ac3331"
      },
      "source": [
        "# заводим LabelEncoder. Его же вы будете использовать для предобработки признака Method в тестовых данных\n",
        "le = LabelEncoder()\n",
        "# передаем le в fit нашу колонку, чтобы LabelEncoder занумеровал значения в ней\n",
        "le.fit(X_train['Method'])"
      ],
      "execution_count": null,
      "outputs": [
        {
          "output_type": "execute_result",
          "data": {
            "text/plain": [
              "LabelEncoder()"
            ]
          },
          "metadata": {},
          "execution_count": 54
        }
      ]
    },
    {
      "cell_type": "markdown",
      "metadata": {
        "id": "rL7rkBWpv_Y4"
      },
      "source": [
        "Посмотрим, какие уникальные значения в колонках нашел LabelEncoder:"
      ]
    },
    {
      "cell_type": "code",
      "metadata": {
        "id": "FyMdk8lkgOax",
        "colab": {
          "base_uri": "https://localhost:8080/"
        },
        "outputId": "389041cb-7fb4-4fd5-9ce9-36cc6cb8cf96"
      },
      "source": [
        "le.classes_"
      ],
      "execution_count": null,
      "outputs": [
        {
          "output_type": "execute_result",
          "data": {
            "text/plain": [
              "array(['PI', 'S', 'SA', 'SP', 'VB'], dtype=object)"
            ]
          },
          "metadata": {},
          "execution_count": 55
        }
      ]
    },
    {
      "cell_type": "markdown",
      "metadata": {
        "id": "4Zf7cB5owEXD"
      },
      "source": [
        "LabelEncoder занумеровал значения ровно в том порядке, в котором мы видим их выше. Вместо @Realty будет 0, вместо ASL — 1 и т.д."
      ]
    },
    {
      "cell_type": "markdown",
      "metadata": {
        "id": "uYY_MZpzwO3w"
      },
      "source": [
        "Переведем теперь с помощью le нашу колонку SellerG в числа:"
      ]
    },
    {
      "cell_type": "code",
      "metadata": {
        "colab": {
          "base_uri": "https://localhost:8080/"
        },
        "id": "oIx9U929gSZR",
        "outputId": "7b319545-75bf-41b2-8e1d-cc38e53dd49a"
      },
      "source": [
        "X_train['Method'] = le.transform(X_train['Method'])"
      ],
      "execution_count": null,
      "outputs": [
        {
          "output_type": "stream",
          "text": [
            "/usr/local/lib/python3.7/dist-packages/ipykernel_launcher.py:1: SettingWithCopyWarning: \n",
            "A value is trying to be set on a copy of a slice from a DataFrame.\n",
            "Try using .loc[row_indexer,col_indexer] = value instead\n",
            "\n",
            "See the caveats in the documentation: https://pandas.pydata.org/pandas-docs/stable/user_guide/indexing.html#returning-a-view-versus-a-copy\n",
            "  \"\"\"Entry point for launching an IPython kernel.\n"
          ],
          "name": "stderr"
        }
      ]
    },
    {
      "cell_type": "markdown",
      "metadata": {
        "id": "ekM9fdr0wW2P"
      },
      "source": [
        "И посмотрим, что получилось:"
      ]
    },
    {
      "cell_type": "code",
      "metadata": {
        "colab": {
          "base_uri": "https://localhost:8080/",
          "height": 352
        },
        "id": "94JneWbNwalF",
        "outputId": "b0d030fe-d51b-4225-e05f-7e76c7e4caa6"
      },
      "source": [
        "X_train.head()"
      ],
      "execution_count": null,
      "outputs": [
        {
          "output_type": "execute_result",
          "data": {
            "text/html": [
              "<div>\n",
              "<style scoped>\n",
              "    .dataframe tbody tr th:only-of-type {\n",
              "        vertical-align: middle;\n",
              "    }\n",
              "\n",
              "    .dataframe tbody tr th {\n",
              "        vertical-align: top;\n",
              "    }\n",
              "\n",
              "    .dataframe thead th {\n",
              "        text-align: right;\n",
              "    }\n",
              "</style>\n",
              "<table border=\"1\" class=\"dataframe\">\n",
              "  <thead>\n",
              "    <tr style=\"text-align: right;\">\n",
              "      <th></th>\n",
              "      <th>Suburb</th>\n",
              "      <th>Address</th>\n",
              "      <th>Rooms</th>\n",
              "      <th>Type</th>\n",
              "      <th>Method</th>\n",
              "      <th>SellerG</th>\n",
              "      <th>Date</th>\n",
              "      <th>Distance</th>\n",
              "      <th>Postcode</th>\n",
              "      <th>Bedroom2</th>\n",
              "      <th>Bathroom</th>\n",
              "      <th>Car</th>\n",
              "      <th>Landsize</th>\n",
              "      <th>BuildingArea</th>\n",
              "      <th>YearBuilt</th>\n",
              "      <th>CouncilArea</th>\n",
              "      <th>Lattitude</th>\n",
              "      <th>Longtitude</th>\n",
              "      <th>Regionname</th>\n",
              "      <th>Propertycount</th>\n",
              "    </tr>\n",
              "  </thead>\n",
              "  <tbody>\n",
              "    <tr>\n",
              "      <th>1913</th>\n",
              "      <td>80</td>\n",
              "      <td>10 Shackell St</td>\n",
              "      <td>3</td>\n",
              "      <td>h</td>\n",
              "      <td>1</td>\n",
              "      <td>Nelson</td>\n",
              "      <td>3/09/2016</td>\n",
              "      <td>7.8</td>\n",
              "      <td>3058.0</td>\n",
              "      <td>2.0</td>\n",
              "      <td>1.0</td>\n",
              "      <td>1.0</td>\n",
              "      <td>286.0</td>\n",
              "      <td>110.0</td>\n",
              "      <td>1890.0</td>\n",
              "      <td>Moreland</td>\n",
              "      <td>-37.74270</td>\n",
              "      <td>144.95200</td>\n",
              "      <td>Northern Metropolitan</td>\n",
              "      <td>11204.0</td>\n",
              "    </tr>\n",
              "    <tr>\n",
              "      <th>12104</th>\n",
              "      <td>213</td>\n",
              "      <td>18/375 Abbotsford St</td>\n",
              "      <td>3</td>\n",
              "      <td>u</td>\n",
              "      <td>1</td>\n",
              "      <td>JMRE</td>\n",
              "      <td>29/07/2017</td>\n",
              "      <td>1.8</td>\n",
              "      <td>3051.0</td>\n",
              "      <td>3.0</td>\n",
              "      <td>1.0</td>\n",
              "      <td>1.0</td>\n",
              "      <td>1843.0</td>\n",
              "      <td>126.0</td>\n",
              "      <td>1960.0</td>\n",
              "      <td>Melbourne</td>\n",
              "      <td>-37.79773</td>\n",
              "      <td>144.94611</td>\n",
              "      <td>Northern Metropolitan</td>\n",
              "      <td>6821.0</td>\n",
              "    </tr>\n",
              "    <tr>\n",
              "      <th>8518</th>\n",
              "      <td>299</td>\n",
              "      <td>6 Caspian Tce</td>\n",
              "      <td>4</td>\n",
              "      <td>h</td>\n",
              "      <td>3</td>\n",
              "      <td>Village</td>\n",
              "      <td>29/04/2017</td>\n",
              "      <td>8.0</td>\n",
              "      <td>3016.0</td>\n",
              "      <td>4.0</td>\n",
              "      <td>3.0</td>\n",
              "      <td>2.0</td>\n",
              "      <td>183.0</td>\n",
              "      <td>191.0</td>\n",
              "      <td>2006.0</td>\n",
              "      <td>Hobsons Bay</td>\n",
              "      <td>-37.85660</td>\n",
              "      <td>144.87370</td>\n",
              "      <td>Western Metropolitan</td>\n",
              "      <td>6380.0</td>\n",
              "    </tr>\n",
              "    <tr>\n",
              "      <th>127</th>\n",
              "      <td>7</td>\n",
              "      <td>2/5 Yarana Rd</td>\n",
              "      <td>2</td>\n",
              "      <td>u</td>\n",
              "      <td>1</td>\n",
              "      <td>McGrath</td>\n",
              "      <td>12/11/2016</td>\n",
              "      <td>6.4</td>\n",
              "      <td>3078.0</td>\n",
              "      <td>2.0</td>\n",
              "      <td>1.0</td>\n",
              "      <td>1.0</td>\n",
              "      <td>0.0</td>\n",
              "      <td>126.0</td>\n",
              "      <td>1970.0</td>\n",
              "      <td>Darebin</td>\n",
              "      <td>-37.77730</td>\n",
              "      <td>145.03140</td>\n",
              "      <td>Northern Metropolitan</td>\n",
              "      <td>2211.0</td>\n",
              "    </tr>\n",
              "    <tr>\n",
              "      <th>12948</th>\n",
              "      <td>84</td>\n",
              "      <td>32 Viewside Cr</td>\n",
              "      <td>4</td>\n",
              "      <td>h</td>\n",
              "      <td>1</td>\n",
              "      <td>Ray</td>\n",
              "      <td>19/08/2017</td>\n",
              "      <td>20.6</td>\n",
              "      <td>3064.0</td>\n",
              "      <td>4.0</td>\n",
              "      <td>2.0</td>\n",
              "      <td>2.0</td>\n",
              "      <td>448.0</td>\n",
              "      <td>126.0</td>\n",
              "      <td>1970.0</td>\n",
              "      <td>Boroondara</td>\n",
              "      <td>-37.57565</td>\n",
              "      <td>144.91365</td>\n",
              "      <td>Northern Metropolitan</td>\n",
              "      <td>15510.0</td>\n",
              "    </tr>\n",
              "  </tbody>\n",
              "</table>\n",
              "</div>"
            ],
            "text/plain": [
              "       Suburb               Address  ...             Regionname Propertycount\n",
              "1913       80        10 Shackell St  ...  Northern Metropolitan       11204.0\n",
              "12104     213  18/375 Abbotsford St  ...  Northern Metropolitan        6821.0\n",
              "8518      299         6 Caspian Tce  ...   Western Metropolitan        6380.0\n",
              "127         7         2/5 Yarana Rd  ...  Northern Metropolitan        2211.0\n",
              "12948      84        32 Viewside Cr  ...  Northern Metropolitan       15510.0\n",
              "\n",
              "[5 rows x 20 columns]"
            ]
          },
          "metadata": {},
          "execution_count": 57
        }
      ]
    },
    {
      "cell_type": "markdown",
      "metadata": {
        "id": "Q-nNj0A0wdOJ"
      },
      "source": [
        "Видим, что колонка SellerG теперь тоже числовая."
      ]
    },
    {
      "cell_type": "markdown",
      "metadata": {
        "id": "fefq9KnRxCjI"
      },
      "source": [
        "#### 2 способ: бинаризация"
      ]
    },
    {
      "cell_type": "markdown",
      "metadata": {
        "id": "X8MNhRRJxW3m"
      },
      "source": [
        "Второй способ обработать категориальные признаки — бинаризация. При бинаризации из одного столбца с несколькими категориальными значениями получается несколько новых бинарных столбцов, значения в которых — 0 и 1.\n",
        "\n",
        "Пример: Пусть у нас в данных есть категориальный признак Education, и в нем три уникальных значения — 'high school', 'university' и 'PhD'. При бинаризации вместо колонки Education появится три новые колонки: Education_high_school, Education_university и Education_phd. В колонке Education_high_school будут единицы в тех строках, в которых в колонке Education было значение 'high school', а в остальных строках будут 0. Аналогично для двух других колонок."
      ]
    },
    {
      "cell_type": "markdown",
      "metadata": {
        "id": "ocdNduo_yUlm"
      },
      "source": [
        "Бинаризовать колонки можно с помощью метода get_dummies библиотеки pandas: https://pandas.pydata.org/docs/reference/api/pandas.get_dummies.html"
      ]
    },
    {
      "cell_type": "markdown",
      "metadata": {
        "id": "Jr4msrlMyeH5"
      },
      "source": [
        "Давайте бинаризуем колонку Regionname. Вот что получится из одной колонки после бинаризации. Получится 8 новых колонок, т.к. в Regionname было 8 уникальных значений."
      ]
    },
    {
      "cell_type": "code",
      "metadata": {
        "colab": {
          "base_uri": "https://localhost:8080/",
          "height": 352
        },
        "id": "9e0gPGXCZg8h",
        "outputId": "20b67823-601a-4c82-dec8-89fe032492e5"
      },
      "source": [
        "X_train.head()"
      ],
      "execution_count": null,
      "outputs": [
        {
          "output_type": "execute_result",
          "data": {
            "text/html": [
              "<div>\n",
              "<style scoped>\n",
              "    .dataframe tbody tr th:only-of-type {\n",
              "        vertical-align: middle;\n",
              "    }\n",
              "\n",
              "    .dataframe tbody tr th {\n",
              "        vertical-align: top;\n",
              "    }\n",
              "\n",
              "    .dataframe thead th {\n",
              "        text-align: right;\n",
              "    }\n",
              "</style>\n",
              "<table border=\"1\" class=\"dataframe\">\n",
              "  <thead>\n",
              "    <tr style=\"text-align: right;\">\n",
              "      <th></th>\n",
              "      <th>Suburb</th>\n",
              "      <th>Address</th>\n",
              "      <th>Rooms</th>\n",
              "      <th>Type</th>\n",
              "      <th>Method</th>\n",
              "      <th>SellerG</th>\n",
              "      <th>Date</th>\n",
              "      <th>Distance</th>\n",
              "      <th>Postcode</th>\n",
              "      <th>Bedroom2</th>\n",
              "      <th>Bathroom</th>\n",
              "      <th>Car</th>\n",
              "      <th>Landsize</th>\n",
              "      <th>BuildingArea</th>\n",
              "      <th>YearBuilt</th>\n",
              "      <th>CouncilArea</th>\n",
              "      <th>Lattitude</th>\n",
              "      <th>Longtitude</th>\n",
              "      <th>Regionname</th>\n",
              "      <th>Propertycount</th>\n",
              "    </tr>\n",
              "  </thead>\n",
              "  <tbody>\n",
              "    <tr>\n",
              "      <th>1913</th>\n",
              "      <td>80</td>\n",
              "      <td>10 Shackell St</td>\n",
              "      <td>3</td>\n",
              "      <td>h</td>\n",
              "      <td>1</td>\n",
              "      <td>Nelson</td>\n",
              "      <td>3/09/2016</td>\n",
              "      <td>7.8</td>\n",
              "      <td>3058.0</td>\n",
              "      <td>2.0</td>\n",
              "      <td>1.0</td>\n",
              "      <td>1.0</td>\n",
              "      <td>286.0</td>\n",
              "      <td>110.0</td>\n",
              "      <td>1890.0</td>\n",
              "      <td>Moreland</td>\n",
              "      <td>-37.74270</td>\n",
              "      <td>144.95200</td>\n",
              "      <td>Northern Metropolitan</td>\n",
              "      <td>11204.0</td>\n",
              "    </tr>\n",
              "    <tr>\n",
              "      <th>12104</th>\n",
              "      <td>213</td>\n",
              "      <td>18/375 Abbotsford St</td>\n",
              "      <td>3</td>\n",
              "      <td>u</td>\n",
              "      <td>1</td>\n",
              "      <td>JMRE</td>\n",
              "      <td>29/07/2017</td>\n",
              "      <td>1.8</td>\n",
              "      <td>3051.0</td>\n",
              "      <td>3.0</td>\n",
              "      <td>1.0</td>\n",
              "      <td>1.0</td>\n",
              "      <td>1843.0</td>\n",
              "      <td>126.0</td>\n",
              "      <td>1960.0</td>\n",
              "      <td>Melbourne</td>\n",
              "      <td>-37.79773</td>\n",
              "      <td>144.94611</td>\n",
              "      <td>Northern Metropolitan</td>\n",
              "      <td>6821.0</td>\n",
              "    </tr>\n",
              "    <tr>\n",
              "      <th>8518</th>\n",
              "      <td>299</td>\n",
              "      <td>6 Caspian Tce</td>\n",
              "      <td>4</td>\n",
              "      <td>h</td>\n",
              "      <td>3</td>\n",
              "      <td>Village</td>\n",
              "      <td>29/04/2017</td>\n",
              "      <td>8.0</td>\n",
              "      <td>3016.0</td>\n",
              "      <td>4.0</td>\n",
              "      <td>3.0</td>\n",
              "      <td>2.0</td>\n",
              "      <td>183.0</td>\n",
              "      <td>191.0</td>\n",
              "      <td>2006.0</td>\n",
              "      <td>Hobsons Bay</td>\n",
              "      <td>-37.85660</td>\n",
              "      <td>144.87370</td>\n",
              "      <td>Western Metropolitan</td>\n",
              "      <td>6380.0</td>\n",
              "    </tr>\n",
              "    <tr>\n",
              "      <th>127</th>\n",
              "      <td>7</td>\n",
              "      <td>2/5 Yarana Rd</td>\n",
              "      <td>2</td>\n",
              "      <td>u</td>\n",
              "      <td>1</td>\n",
              "      <td>McGrath</td>\n",
              "      <td>12/11/2016</td>\n",
              "      <td>6.4</td>\n",
              "      <td>3078.0</td>\n",
              "      <td>2.0</td>\n",
              "      <td>1.0</td>\n",
              "      <td>1.0</td>\n",
              "      <td>0.0</td>\n",
              "      <td>126.0</td>\n",
              "      <td>1970.0</td>\n",
              "      <td>Darebin</td>\n",
              "      <td>-37.77730</td>\n",
              "      <td>145.03140</td>\n",
              "      <td>Northern Metropolitan</td>\n",
              "      <td>2211.0</td>\n",
              "    </tr>\n",
              "    <tr>\n",
              "      <th>12948</th>\n",
              "      <td>84</td>\n",
              "      <td>32 Viewside Cr</td>\n",
              "      <td>4</td>\n",
              "      <td>h</td>\n",
              "      <td>1</td>\n",
              "      <td>Ray</td>\n",
              "      <td>19/08/2017</td>\n",
              "      <td>20.6</td>\n",
              "      <td>3064.0</td>\n",
              "      <td>4.0</td>\n",
              "      <td>2.0</td>\n",
              "      <td>2.0</td>\n",
              "      <td>448.0</td>\n",
              "      <td>126.0</td>\n",
              "      <td>1970.0</td>\n",
              "      <td>Boroondara</td>\n",
              "      <td>-37.57565</td>\n",
              "      <td>144.91365</td>\n",
              "      <td>Northern Metropolitan</td>\n",
              "      <td>15510.0</td>\n",
              "    </tr>\n",
              "  </tbody>\n",
              "</table>\n",
              "</div>"
            ],
            "text/plain": [
              "       Suburb               Address  ...             Regionname Propertycount\n",
              "1913       80        10 Shackell St  ...  Northern Metropolitan       11204.0\n",
              "12104     213  18/375 Abbotsford St  ...  Northern Metropolitan        6821.0\n",
              "8518      299         6 Caspian Tce  ...   Western Metropolitan        6380.0\n",
              "127         7         2/5 Yarana Rd  ...  Northern Metropolitan        2211.0\n",
              "12948      84        32 Viewside Cr  ...  Northern Metropolitan       15510.0\n",
              "\n",
              "[5 rows x 20 columns]"
            ]
          },
          "metadata": {},
          "execution_count": 58
        }
      ]
    },
    {
      "cell_type": "code",
      "metadata": {
        "colab": {
          "base_uri": "https://localhost:8080/"
        },
        "id": "p42Rv_NoZn_q",
        "outputId": "3fd571ea-896b-4bd4-8a20-e90ea5965141"
      },
      "source": [
        "np.unique(X_train['Regionname'])"
      ],
      "execution_count": null,
      "outputs": [
        {
          "output_type": "execute_result",
          "data": {
            "text/plain": [
              "array(['Eastern Metropolitan', 'Eastern Victoria',\n",
              "       'Northern Metropolitan', 'Northern Victoria',\n",
              "       'South-Eastern Metropolitan', 'Southern Metropolitan',\n",
              "       'Western Metropolitan', 'Western Victoria'], dtype=object)"
            ]
          },
          "metadata": {},
          "execution_count": 59
        }
      ]
    },
    {
      "cell_type": "code",
      "metadata": {
        "colab": {
          "base_uri": "https://localhost:8080/",
          "height": 411
        },
        "id": "B7iRCP1igfE6",
        "outputId": "4fcca0b8-7bf8-4c2f-fa99-c58134a9eb61"
      },
      "source": [
        "pd.get_dummies(X_train['Regionname'])"
      ],
      "execution_count": null,
      "outputs": [
        {
          "output_type": "execute_result",
          "data": {
            "text/html": [
              "<div>\n",
              "<style scoped>\n",
              "    .dataframe tbody tr th:only-of-type {\n",
              "        vertical-align: middle;\n",
              "    }\n",
              "\n",
              "    .dataframe tbody tr th {\n",
              "        vertical-align: top;\n",
              "    }\n",
              "\n",
              "    .dataframe thead th {\n",
              "        text-align: right;\n",
              "    }\n",
              "</style>\n",
              "<table border=\"1\" class=\"dataframe\">\n",
              "  <thead>\n",
              "    <tr style=\"text-align: right;\">\n",
              "      <th></th>\n",
              "      <th>Eastern Metropolitan</th>\n",
              "      <th>Eastern Victoria</th>\n",
              "      <th>Northern Metropolitan</th>\n",
              "      <th>Northern Victoria</th>\n",
              "      <th>South-Eastern Metropolitan</th>\n",
              "      <th>Southern Metropolitan</th>\n",
              "      <th>Western Metropolitan</th>\n",
              "      <th>Western Victoria</th>\n",
              "    </tr>\n",
              "  </thead>\n",
              "  <tbody>\n",
              "    <tr>\n",
              "      <th>1913</th>\n",
              "      <td>0</td>\n",
              "      <td>0</td>\n",
              "      <td>1</td>\n",
              "      <td>0</td>\n",
              "      <td>0</td>\n",
              "      <td>0</td>\n",
              "      <td>0</td>\n",
              "      <td>0</td>\n",
              "    </tr>\n",
              "    <tr>\n",
              "      <th>12104</th>\n",
              "      <td>0</td>\n",
              "      <td>0</td>\n",
              "      <td>1</td>\n",
              "      <td>0</td>\n",
              "      <td>0</td>\n",
              "      <td>0</td>\n",
              "      <td>0</td>\n",
              "      <td>0</td>\n",
              "    </tr>\n",
              "    <tr>\n",
              "      <th>8518</th>\n",
              "      <td>0</td>\n",
              "      <td>0</td>\n",
              "      <td>0</td>\n",
              "      <td>0</td>\n",
              "      <td>0</td>\n",
              "      <td>0</td>\n",
              "      <td>1</td>\n",
              "      <td>0</td>\n",
              "    </tr>\n",
              "    <tr>\n",
              "      <th>127</th>\n",
              "      <td>0</td>\n",
              "      <td>0</td>\n",
              "      <td>1</td>\n",
              "      <td>0</td>\n",
              "      <td>0</td>\n",
              "      <td>0</td>\n",
              "      <td>0</td>\n",
              "      <td>0</td>\n",
              "    </tr>\n",
              "    <tr>\n",
              "      <th>12948</th>\n",
              "      <td>0</td>\n",
              "      <td>0</td>\n",
              "      <td>1</td>\n",
              "      <td>0</td>\n",
              "      <td>0</td>\n",
              "      <td>0</td>\n",
              "      <td>0</td>\n",
              "      <td>0</td>\n",
              "    </tr>\n",
              "    <tr>\n",
              "      <th>...</th>\n",
              "      <td>...</td>\n",
              "      <td>...</td>\n",
              "      <td>...</td>\n",
              "      <td>...</td>\n",
              "      <td>...</td>\n",
              "      <td>...</td>\n",
              "      <td>...</td>\n",
              "      <td>...</td>\n",
              "    </tr>\n",
              "    <tr>\n",
              "      <th>3974</th>\n",
              "      <td>0</td>\n",
              "      <td>0</td>\n",
              "      <td>0</td>\n",
              "      <td>0</td>\n",
              "      <td>0</td>\n",
              "      <td>0</td>\n",
              "      <td>1</td>\n",
              "      <td>0</td>\n",
              "    </tr>\n",
              "    <tr>\n",
              "      <th>9034</th>\n",
              "      <td>0</td>\n",
              "      <td>0</td>\n",
              "      <td>0</td>\n",
              "      <td>0</td>\n",
              "      <td>0</td>\n",
              "      <td>1</td>\n",
              "      <td>0</td>\n",
              "      <td>0</td>\n",
              "    </tr>\n",
              "    <tr>\n",
              "      <th>6983</th>\n",
              "      <td>0</td>\n",
              "      <td>0</td>\n",
              "      <td>0</td>\n",
              "      <td>0</td>\n",
              "      <td>0</td>\n",
              "      <td>1</td>\n",
              "      <td>0</td>\n",
              "      <td>0</td>\n",
              "    </tr>\n",
              "    <tr>\n",
              "      <th>9167</th>\n",
              "      <td>0</td>\n",
              "      <td>0</td>\n",
              "      <td>1</td>\n",
              "      <td>0</td>\n",
              "      <td>0</td>\n",
              "      <td>0</td>\n",
              "      <td>0</td>\n",
              "      <td>0</td>\n",
              "    </tr>\n",
              "    <tr>\n",
              "      <th>8709</th>\n",
              "      <td>0</td>\n",
              "      <td>0</td>\n",
              "      <td>0</td>\n",
              "      <td>0</td>\n",
              "      <td>0</td>\n",
              "      <td>0</td>\n",
              "      <td>1</td>\n",
              "      <td>0</td>\n",
              "    </tr>\n",
              "  </tbody>\n",
              "</table>\n",
              "<p>10864 rows × 8 columns</p>\n",
              "</div>"
            ],
            "text/plain": [
              "       Eastern Metropolitan  ...  Western Victoria\n",
              "1913                      0  ...                 0\n",
              "12104                     0  ...                 0\n",
              "8518                      0  ...                 0\n",
              "127                       0  ...                 0\n",
              "12948                     0  ...                 0\n",
              "...                     ...  ...               ...\n",
              "3974                      0  ...                 0\n",
              "9034                      0  ...                 0\n",
              "6983                      0  ...                 0\n",
              "9167                      0  ...                 0\n",
              "8709                      0  ...                 0\n",
              "\n",
              "[10864 rows x 8 columns]"
            ]
          },
          "metadata": {},
          "execution_count": 60
        }
      ]
    },
    {
      "cell_type": "markdown",
      "metadata": {
        "id": "csRdMUOEy0hv"
      },
      "source": [
        "Чтобы заменить колонку Regionname на эти 8 новых колонок в X_train, нужно передать get_dummies весть X_train и указать список колонок, которые нужно бинаризовать:"
      ]
    },
    {
      "cell_type": "code",
      "metadata": {
        "id": "-1A7MnaOinp-"
      },
      "source": [
        "X_train = pd.get_dummies(X_train, columns=['Regionname'])"
      ],
      "execution_count": null,
      "outputs": []
    },
    {
      "cell_type": "markdown",
      "metadata": {
        "id": "IotEHrWEzK9C"
      },
      "source": [
        "Посмотрим, что получилось:"
      ]
    },
    {
      "cell_type": "code",
      "metadata": {
        "id": "Z5AEayfQiwXc",
        "colab": {
          "base_uri": "https://localhost:8080/",
          "height": 385
        },
        "outputId": "a1d0cd92-acfe-4f96-b08a-ce1455debb51"
      },
      "source": [
        "X_train.head()"
      ],
      "execution_count": null,
      "outputs": [
        {
          "output_type": "execute_result",
          "data": {
            "text/html": [
              "<div>\n",
              "<style scoped>\n",
              "    .dataframe tbody tr th:only-of-type {\n",
              "        vertical-align: middle;\n",
              "    }\n",
              "\n",
              "    .dataframe tbody tr th {\n",
              "        vertical-align: top;\n",
              "    }\n",
              "\n",
              "    .dataframe thead th {\n",
              "        text-align: right;\n",
              "    }\n",
              "</style>\n",
              "<table border=\"1\" class=\"dataframe\">\n",
              "  <thead>\n",
              "    <tr style=\"text-align: right;\">\n",
              "      <th></th>\n",
              "      <th>Suburb</th>\n",
              "      <th>Address</th>\n",
              "      <th>Rooms</th>\n",
              "      <th>Type</th>\n",
              "      <th>Method</th>\n",
              "      <th>SellerG</th>\n",
              "      <th>Date</th>\n",
              "      <th>Distance</th>\n",
              "      <th>Postcode</th>\n",
              "      <th>Bedroom2</th>\n",
              "      <th>Bathroom</th>\n",
              "      <th>Car</th>\n",
              "      <th>Landsize</th>\n",
              "      <th>BuildingArea</th>\n",
              "      <th>YearBuilt</th>\n",
              "      <th>CouncilArea</th>\n",
              "      <th>Lattitude</th>\n",
              "      <th>Longtitude</th>\n",
              "      <th>Propertycount</th>\n",
              "      <th>Regionname_Eastern Metropolitan</th>\n",
              "      <th>Regionname_Eastern Victoria</th>\n",
              "      <th>Regionname_Northern Metropolitan</th>\n",
              "      <th>Regionname_Northern Victoria</th>\n",
              "      <th>Regionname_South-Eastern Metropolitan</th>\n",
              "      <th>Regionname_Southern Metropolitan</th>\n",
              "      <th>Regionname_Western Metropolitan</th>\n",
              "      <th>Regionname_Western Victoria</th>\n",
              "    </tr>\n",
              "  </thead>\n",
              "  <tbody>\n",
              "    <tr>\n",
              "      <th>1913</th>\n",
              "      <td>80</td>\n",
              "      <td>10 Shackell St</td>\n",
              "      <td>3</td>\n",
              "      <td>h</td>\n",
              "      <td>1</td>\n",
              "      <td>Nelson</td>\n",
              "      <td>3/09/2016</td>\n",
              "      <td>7.8</td>\n",
              "      <td>3058.0</td>\n",
              "      <td>2.0</td>\n",
              "      <td>1.0</td>\n",
              "      <td>1.0</td>\n",
              "      <td>286.0</td>\n",
              "      <td>110.0</td>\n",
              "      <td>1890.0</td>\n",
              "      <td>Moreland</td>\n",
              "      <td>-37.74270</td>\n",
              "      <td>144.95200</td>\n",
              "      <td>11204.0</td>\n",
              "      <td>0</td>\n",
              "      <td>0</td>\n",
              "      <td>1</td>\n",
              "      <td>0</td>\n",
              "      <td>0</td>\n",
              "      <td>0</td>\n",
              "      <td>0</td>\n",
              "      <td>0</td>\n",
              "    </tr>\n",
              "    <tr>\n",
              "      <th>12104</th>\n",
              "      <td>213</td>\n",
              "      <td>18/375 Abbotsford St</td>\n",
              "      <td>3</td>\n",
              "      <td>u</td>\n",
              "      <td>1</td>\n",
              "      <td>JMRE</td>\n",
              "      <td>29/07/2017</td>\n",
              "      <td>1.8</td>\n",
              "      <td>3051.0</td>\n",
              "      <td>3.0</td>\n",
              "      <td>1.0</td>\n",
              "      <td>1.0</td>\n",
              "      <td>1843.0</td>\n",
              "      <td>126.0</td>\n",
              "      <td>1960.0</td>\n",
              "      <td>Melbourne</td>\n",
              "      <td>-37.79773</td>\n",
              "      <td>144.94611</td>\n",
              "      <td>6821.0</td>\n",
              "      <td>0</td>\n",
              "      <td>0</td>\n",
              "      <td>1</td>\n",
              "      <td>0</td>\n",
              "      <td>0</td>\n",
              "      <td>0</td>\n",
              "      <td>0</td>\n",
              "      <td>0</td>\n",
              "    </tr>\n",
              "    <tr>\n",
              "      <th>8518</th>\n",
              "      <td>299</td>\n",
              "      <td>6 Caspian Tce</td>\n",
              "      <td>4</td>\n",
              "      <td>h</td>\n",
              "      <td>3</td>\n",
              "      <td>Village</td>\n",
              "      <td>29/04/2017</td>\n",
              "      <td>8.0</td>\n",
              "      <td>3016.0</td>\n",
              "      <td>4.0</td>\n",
              "      <td>3.0</td>\n",
              "      <td>2.0</td>\n",
              "      <td>183.0</td>\n",
              "      <td>191.0</td>\n",
              "      <td>2006.0</td>\n",
              "      <td>Hobsons Bay</td>\n",
              "      <td>-37.85660</td>\n",
              "      <td>144.87370</td>\n",
              "      <td>6380.0</td>\n",
              "      <td>0</td>\n",
              "      <td>0</td>\n",
              "      <td>0</td>\n",
              "      <td>0</td>\n",
              "      <td>0</td>\n",
              "      <td>0</td>\n",
              "      <td>1</td>\n",
              "      <td>0</td>\n",
              "    </tr>\n",
              "    <tr>\n",
              "      <th>127</th>\n",
              "      <td>7</td>\n",
              "      <td>2/5 Yarana Rd</td>\n",
              "      <td>2</td>\n",
              "      <td>u</td>\n",
              "      <td>1</td>\n",
              "      <td>McGrath</td>\n",
              "      <td>12/11/2016</td>\n",
              "      <td>6.4</td>\n",
              "      <td>3078.0</td>\n",
              "      <td>2.0</td>\n",
              "      <td>1.0</td>\n",
              "      <td>1.0</td>\n",
              "      <td>0.0</td>\n",
              "      <td>126.0</td>\n",
              "      <td>1970.0</td>\n",
              "      <td>Darebin</td>\n",
              "      <td>-37.77730</td>\n",
              "      <td>145.03140</td>\n",
              "      <td>2211.0</td>\n",
              "      <td>0</td>\n",
              "      <td>0</td>\n",
              "      <td>1</td>\n",
              "      <td>0</td>\n",
              "      <td>0</td>\n",
              "      <td>0</td>\n",
              "      <td>0</td>\n",
              "      <td>0</td>\n",
              "    </tr>\n",
              "    <tr>\n",
              "      <th>12948</th>\n",
              "      <td>84</td>\n",
              "      <td>32 Viewside Cr</td>\n",
              "      <td>4</td>\n",
              "      <td>h</td>\n",
              "      <td>1</td>\n",
              "      <td>Ray</td>\n",
              "      <td>19/08/2017</td>\n",
              "      <td>20.6</td>\n",
              "      <td>3064.0</td>\n",
              "      <td>4.0</td>\n",
              "      <td>2.0</td>\n",
              "      <td>2.0</td>\n",
              "      <td>448.0</td>\n",
              "      <td>126.0</td>\n",
              "      <td>1970.0</td>\n",
              "      <td>Boroondara</td>\n",
              "      <td>-37.57565</td>\n",
              "      <td>144.91365</td>\n",
              "      <td>15510.0</td>\n",
              "      <td>0</td>\n",
              "      <td>0</td>\n",
              "      <td>1</td>\n",
              "      <td>0</td>\n",
              "      <td>0</td>\n",
              "      <td>0</td>\n",
              "      <td>0</td>\n",
              "      <td>0</td>\n",
              "    </tr>\n",
              "  </tbody>\n",
              "</table>\n",
              "</div>"
            ],
            "text/plain": [
              "       Suburb  ... Regionname_Western Victoria\n",
              "1913       80  ...                           0\n",
              "12104     213  ...                           0\n",
              "8518      299  ...                           0\n",
              "127         7  ...                           0\n",
              "12948      84  ...                           0\n",
              "\n",
              "[5 rows x 27 columns]"
            ]
          },
          "metadata": {},
          "execution_count": 62
        }
      ]
    },
    {
      "cell_type": "markdown",
      "metadata": {
        "id": "seovFIHszPQ7"
      },
      "source": [
        "Видим, что колонка Regionname исчезла, и появились новые 8 колонок. "
      ]
    },
    {
      "cell_type": "markdown",
      "metadata": {
        "id": "1ffr-Wfm0y2H"
      },
      "source": [
        "Применим тот же подход к столбцу Type:"
      ]
    },
    {
      "cell_type": "code",
      "metadata": {
        "id": "2Uo8s2eT03MD"
      },
      "source": [
        "X_train = pd.get_dummies(X_train, columns=['Type'])"
      ],
      "execution_count": null,
      "outputs": []
    },
    {
      "cell_type": "code",
      "metadata": {
        "colab": {
          "base_uri": "https://localhost:8080/",
          "height": 385
        },
        "id": "eDGCONVlaqAu",
        "outputId": "8ae48dce-c150-4d53-b13e-fc5ca7c0a9a1"
      },
      "source": [
        "X_train.head()"
      ],
      "execution_count": null,
      "outputs": [
        {
          "output_type": "execute_result",
          "data": {
            "text/html": [
              "<div>\n",
              "<style scoped>\n",
              "    .dataframe tbody tr th:only-of-type {\n",
              "        vertical-align: middle;\n",
              "    }\n",
              "\n",
              "    .dataframe tbody tr th {\n",
              "        vertical-align: top;\n",
              "    }\n",
              "\n",
              "    .dataframe thead th {\n",
              "        text-align: right;\n",
              "    }\n",
              "</style>\n",
              "<table border=\"1\" class=\"dataframe\">\n",
              "  <thead>\n",
              "    <tr style=\"text-align: right;\">\n",
              "      <th></th>\n",
              "      <th>Suburb</th>\n",
              "      <th>Address</th>\n",
              "      <th>Rooms</th>\n",
              "      <th>Method</th>\n",
              "      <th>SellerG</th>\n",
              "      <th>Date</th>\n",
              "      <th>Distance</th>\n",
              "      <th>Postcode</th>\n",
              "      <th>Bedroom2</th>\n",
              "      <th>Bathroom</th>\n",
              "      <th>Car</th>\n",
              "      <th>Landsize</th>\n",
              "      <th>BuildingArea</th>\n",
              "      <th>YearBuilt</th>\n",
              "      <th>CouncilArea</th>\n",
              "      <th>Lattitude</th>\n",
              "      <th>Longtitude</th>\n",
              "      <th>Propertycount</th>\n",
              "      <th>Regionname_Eastern Metropolitan</th>\n",
              "      <th>Regionname_Eastern Victoria</th>\n",
              "      <th>Regionname_Northern Metropolitan</th>\n",
              "      <th>Regionname_Northern Victoria</th>\n",
              "      <th>Regionname_South-Eastern Metropolitan</th>\n",
              "      <th>Regionname_Southern Metropolitan</th>\n",
              "      <th>Regionname_Western Metropolitan</th>\n",
              "      <th>Regionname_Western Victoria</th>\n",
              "      <th>Type_h</th>\n",
              "      <th>Type_t</th>\n",
              "      <th>Type_u</th>\n",
              "    </tr>\n",
              "  </thead>\n",
              "  <tbody>\n",
              "    <tr>\n",
              "      <th>1913</th>\n",
              "      <td>80</td>\n",
              "      <td>10 Shackell St</td>\n",
              "      <td>3</td>\n",
              "      <td>1</td>\n",
              "      <td>Nelson</td>\n",
              "      <td>3/09/2016</td>\n",
              "      <td>7.8</td>\n",
              "      <td>3058.0</td>\n",
              "      <td>2.0</td>\n",
              "      <td>1.0</td>\n",
              "      <td>1.0</td>\n",
              "      <td>286.0</td>\n",
              "      <td>110.0</td>\n",
              "      <td>1890.0</td>\n",
              "      <td>Moreland</td>\n",
              "      <td>-37.74270</td>\n",
              "      <td>144.95200</td>\n",
              "      <td>11204.0</td>\n",
              "      <td>0</td>\n",
              "      <td>0</td>\n",
              "      <td>1</td>\n",
              "      <td>0</td>\n",
              "      <td>0</td>\n",
              "      <td>0</td>\n",
              "      <td>0</td>\n",
              "      <td>0</td>\n",
              "      <td>1</td>\n",
              "      <td>0</td>\n",
              "      <td>0</td>\n",
              "    </tr>\n",
              "    <tr>\n",
              "      <th>12104</th>\n",
              "      <td>213</td>\n",
              "      <td>18/375 Abbotsford St</td>\n",
              "      <td>3</td>\n",
              "      <td>1</td>\n",
              "      <td>JMRE</td>\n",
              "      <td>29/07/2017</td>\n",
              "      <td>1.8</td>\n",
              "      <td>3051.0</td>\n",
              "      <td>3.0</td>\n",
              "      <td>1.0</td>\n",
              "      <td>1.0</td>\n",
              "      <td>1843.0</td>\n",
              "      <td>126.0</td>\n",
              "      <td>1960.0</td>\n",
              "      <td>Melbourne</td>\n",
              "      <td>-37.79773</td>\n",
              "      <td>144.94611</td>\n",
              "      <td>6821.0</td>\n",
              "      <td>0</td>\n",
              "      <td>0</td>\n",
              "      <td>1</td>\n",
              "      <td>0</td>\n",
              "      <td>0</td>\n",
              "      <td>0</td>\n",
              "      <td>0</td>\n",
              "      <td>0</td>\n",
              "      <td>0</td>\n",
              "      <td>0</td>\n",
              "      <td>1</td>\n",
              "    </tr>\n",
              "    <tr>\n",
              "      <th>8518</th>\n",
              "      <td>299</td>\n",
              "      <td>6 Caspian Tce</td>\n",
              "      <td>4</td>\n",
              "      <td>3</td>\n",
              "      <td>Village</td>\n",
              "      <td>29/04/2017</td>\n",
              "      <td>8.0</td>\n",
              "      <td>3016.0</td>\n",
              "      <td>4.0</td>\n",
              "      <td>3.0</td>\n",
              "      <td>2.0</td>\n",
              "      <td>183.0</td>\n",
              "      <td>191.0</td>\n",
              "      <td>2006.0</td>\n",
              "      <td>Hobsons Bay</td>\n",
              "      <td>-37.85660</td>\n",
              "      <td>144.87370</td>\n",
              "      <td>6380.0</td>\n",
              "      <td>0</td>\n",
              "      <td>0</td>\n",
              "      <td>0</td>\n",
              "      <td>0</td>\n",
              "      <td>0</td>\n",
              "      <td>0</td>\n",
              "      <td>1</td>\n",
              "      <td>0</td>\n",
              "      <td>1</td>\n",
              "      <td>0</td>\n",
              "      <td>0</td>\n",
              "    </tr>\n",
              "    <tr>\n",
              "      <th>127</th>\n",
              "      <td>7</td>\n",
              "      <td>2/5 Yarana Rd</td>\n",
              "      <td>2</td>\n",
              "      <td>1</td>\n",
              "      <td>McGrath</td>\n",
              "      <td>12/11/2016</td>\n",
              "      <td>6.4</td>\n",
              "      <td>3078.0</td>\n",
              "      <td>2.0</td>\n",
              "      <td>1.0</td>\n",
              "      <td>1.0</td>\n",
              "      <td>0.0</td>\n",
              "      <td>126.0</td>\n",
              "      <td>1970.0</td>\n",
              "      <td>Darebin</td>\n",
              "      <td>-37.77730</td>\n",
              "      <td>145.03140</td>\n",
              "      <td>2211.0</td>\n",
              "      <td>0</td>\n",
              "      <td>0</td>\n",
              "      <td>1</td>\n",
              "      <td>0</td>\n",
              "      <td>0</td>\n",
              "      <td>0</td>\n",
              "      <td>0</td>\n",
              "      <td>0</td>\n",
              "      <td>0</td>\n",
              "      <td>0</td>\n",
              "      <td>1</td>\n",
              "    </tr>\n",
              "    <tr>\n",
              "      <th>12948</th>\n",
              "      <td>84</td>\n",
              "      <td>32 Viewside Cr</td>\n",
              "      <td>4</td>\n",
              "      <td>1</td>\n",
              "      <td>Ray</td>\n",
              "      <td>19/08/2017</td>\n",
              "      <td>20.6</td>\n",
              "      <td>3064.0</td>\n",
              "      <td>4.0</td>\n",
              "      <td>2.0</td>\n",
              "      <td>2.0</td>\n",
              "      <td>448.0</td>\n",
              "      <td>126.0</td>\n",
              "      <td>1970.0</td>\n",
              "      <td>Boroondara</td>\n",
              "      <td>-37.57565</td>\n",
              "      <td>144.91365</td>\n",
              "      <td>15510.0</td>\n",
              "      <td>0</td>\n",
              "      <td>0</td>\n",
              "      <td>1</td>\n",
              "      <td>0</td>\n",
              "      <td>0</td>\n",
              "      <td>0</td>\n",
              "      <td>0</td>\n",
              "      <td>0</td>\n",
              "      <td>1</td>\n",
              "      <td>0</td>\n",
              "      <td>0</td>\n",
              "    </tr>\n",
              "  </tbody>\n",
              "</table>\n",
              "</div>"
            ],
            "text/plain": [
              "       Suburb               Address  Rooms  ...  Type_h Type_t Type_u\n",
              "1913       80        10 Shackell St      3  ...       1      0      0\n",
              "12104     213  18/375 Abbotsford St      3  ...       0      0      1\n",
              "8518      299         6 Caspian Tce      4  ...       1      0      0\n",
              "127         7         2/5 Yarana Rd      2  ...       0      0      1\n",
              "12948      84        32 Viewside Cr      4  ...       1      0      0\n",
              "\n",
              "[5 rows x 29 columns]"
            ]
          },
          "metadata": {},
          "execution_count": 65
        }
      ]
    },
    {
      "cell_type": "markdown",
      "metadata": {
        "id": "m3R6E1o5zN2c"
      },
      "source": [
        "### Удаление признаков"
      ]
    },
    {
      "cell_type": "markdown",
      "metadata": {
        "id": "xgaRipTBzTqF"
      },
      "source": [
        "Иногда признаки из датасета можно удалять. Это бывает нужно в двух случаях:\n",
        "- когда признак не несет никакой полезной информации. Примеры таких признаков: номер паспорта клиента (от номера паспорта не зависит, например, насколько надежным заемщиком является клиент), какой вид смузи предпочитает клиент и среднегодичная погода в городе, где живет человек\n",
        "- когда признак может нести полезную информацию, но его сложно предобработать. И для создания базовой модели (бейзлайна) этот признак проще удалить. И после, в процессе улучшения предобработки признаков, можно будет добавить этот признак обратно. Пример такого признака: время, в которое клиент совершил покупку на сайте или признак Address из нашего датасета"
      ]
    },
    {
      "cell_type": "markdown",
      "metadata": {
        "id": "589sa_H50Ux-"
      },
      "source": [
        "Давайте удалим из нашего датасета признаки Address, Date и CouncilArea. Позже вы можете сами добавить информацию из этих признаков в датасет и попробовать обучить модель машинного обучения с ними."
      ]
    },
    {
      "cell_type": "code",
      "metadata": {
        "id": "KwmKZcgOzNJK"
      },
      "source": [
        "X_train = X_train.drop(columns = ['Address', 'Date', 'CouncilArea', 'SellerG'])"
      ],
      "execution_count": null,
      "outputs": []
    },
    {
      "cell_type": "code",
      "metadata": {
        "colab": {
          "base_uri": "https://localhost:8080/",
          "height": 254
        },
        "id": "gOQoRPl70slo",
        "outputId": "1e329004-aa61-48c1-ea43-6baf703c8adc"
      },
      "source": [
        "X_train.head()"
      ],
      "execution_count": null,
      "outputs": [
        {
          "output_type": "execute_result",
          "data": {
            "text/html": [
              "<div>\n",
              "<style scoped>\n",
              "    .dataframe tbody tr th:only-of-type {\n",
              "        vertical-align: middle;\n",
              "    }\n",
              "\n",
              "    .dataframe tbody tr th {\n",
              "        vertical-align: top;\n",
              "    }\n",
              "\n",
              "    .dataframe thead th {\n",
              "        text-align: right;\n",
              "    }\n",
              "</style>\n",
              "<table border=\"1\" class=\"dataframe\">\n",
              "  <thead>\n",
              "    <tr style=\"text-align: right;\">\n",
              "      <th></th>\n",
              "      <th>Suburb</th>\n",
              "      <th>Rooms</th>\n",
              "      <th>Method</th>\n",
              "      <th>Distance</th>\n",
              "      <th>Postcode</th>\n",
              "      <th>Bedroom2</th>\n",
              "      <th>Bathroom</th>\n",
              "      <th>Car</th>\n",
              "      <th>Landsize</th>\n",
              "      <th>BuildingArea</th>\n",
              "      <th>YearBuilt</th>\n",
              "      <th>Lattitude</th>\n",
              "      <th>Longtitude</th>\n",
              "      <th>Propertycount</th>\n",
              "      <th>Regionname_Eastern Metropolitan</th>\n",
              "      <th>Regionname_Eastern Victoria</th>\n",
              "      <th>Regionname_Northern Metropolitan</th>\n",
              "      <th>Regionname_Northern Victoria</th>\n",
              "      <th>Regionname_South-Eastern Metropolitan</th>\n",
              "      <th>Regionname_Southern Metropolitan</th>\n",
              "      <th>Regionname_Western Metropolitan</th>\n",
              "      <th>Regionname_Western Victoria</th>\n",
              "      <th>Type_h</th>\n",
              "      <th>Type_t</th>\n",
              "      <th>Type_u</th>\n",
              "    </tr>\n",
              "  </thead>\n",
              "  <tbody>\n",
              "    <tr>\n",
              "      <th>1913</th>\n",
              "      <td>80</td>\n",
              "      <td>3</td>\n",
              "      <td>1</td>\n",
              "      <td>7.8</td>\n",
              "      <td>3058.0</td>\n",
              "      <td>2.0</td>\n",
              "      <td>1.0</td>\n",
              "      <td>1.0</td>\n",
              "      <td>286.0</td>\n",
              "      <td>110.0</td>\n",
              "      <td>1890.0</td>\n",
              "      <td>-37.74270</td>\n",
              "      <td>144.95200</td>\n",
              "      <td>11204.0</td>\n",
              "      <td>0</td>\n",
              "      <td>0</td>\n",
              "      <td>1</td>\n",
              "      <td>0</td>\n",
              "      <td>0</td>\n",
              "      <td>0</td>\n",
              "      <td>0</td>\n",
              "      <td>0</td>\n",
              "      <td>1</td>\n",
              "      <td>0</td>\n",
              "      <td>0</td>\n",
              "    </tr>\n",
              "    <tr>\n",
              "      <th>12104</th>\n",
              "      <td>213</td>\n",
              "      <td>3</td>\n",
              "      <td>1</td>\n",
              "      <td>1.8</td>\n",
              "      <td>3051.0</td>\n",
              "      <td>3.0</td>\n",
              "      <td>1.0</td>\n",
              "      <td>1.0</td>\n",
              "      <td>1843.0</td>\n",
              "      <td>126.0</td>\n",
              "      <td>1960.0</td>\n",
              "      <td>-37.79773</td>\n",
              "      <td>144.94611</td>\n",
              "      <td>6821.0</td>\n",
              "      <td>0</td>\n",
              "      <td>0</td>\n",
              "      <td>1</td>\n",
              "      <td>0</td>\n",
              "      <td>0</td>\n",
              "      <td>0</td>\n",
              "      <td>0</td>\n",
              "      <td>0</td>\n",
              "      <td>0</td>\n",
              "      <td>0</td>\n",
              "      <td>1</td>\n",
              "    </tr>\n",
              "    <tr>\n",
              "      <th>8518</th>\n",
              "      <td>299</td>\n",
              "      <td>4</td>\n",
              "      <td>3</td>\n",
              "      <td>8.0</td>\n",
              "      <td>3016.0</td>\n",
              "      <td>4.0</td>\n",
              "      <td>3.0</td>\n",
              "      <td>2.0</td>\n",
              "      <td>183.0</td>\n",
              "      <td>191.0</td>\n",
              "      <td>2006.0</td>\n",
              "      <td>-37.85660</td>\n",
              "      <td>144.87370</td>\n",
              "      <td>6380.0</td>\n",
              "      <td>0</td>\n",
              "      <td>0</td>\n",
              "      <td>0</td>\n",
              "      <td>0</td>\n",
              "      <td>0</td>\n",
              "      <td>0</td>\n",
              "      <td>1</td>\n",
              "      <td>0</td>\n",
              "      <td>1</td>\n",
              "      <td>0</td>\n",
              "      <td>0</td>\n",
              "    </tr>\n",
              "    <tr>\n",
              "      <th>127</th>\n",
              "      <td>7</td>\n",
              "      <td>2</td>\n",
              "      <td>1</td>\n",
              "      <td>6.4</td>\n",
              "      <td>3078.0</td>\n",
              "      <td>2.0</td>\n",
              "      <td>1.0</td>\n",
              "      <td>1.0</td>\n",
              "      <td>0.0</td>\n",
              "      <td>126.0</td>\n",
              "      <td>1970.0</td>\n",
              "      <td>-37.77730</td>\n",
              "      <td>145.03140</td>\n",
              "      <td>2211.0</td>\n",
              "      <td>0</td>\n",
              "      <td>0</td>\n",
              "      <td>1</td>\n",
              "      <td>0</td>\n",
              "      <td>0</td>\n",
              "      <td>0</td>\n",
              "      <td>0</td>\n",
              "      <td>0</td>\n",
              "      <td>0</td>\n",
              "      <td>0</td>\n",
              "      <td>1</td>\n",
              "    </tr>\n",
              "    <tr>\n",
              "      <th>12948</th>\n",
              "      <td>84</td>\n",
              "      <td>4</td>\n",
              "      <td>1</td>\n",
              "      <td>20.6</td>\n",
              "      <td>3064.0</td>\n",
              "      <td>4.0</td>\n",
              "      <td>2.0</td>\n",
              "      <td>2.0</td>\n",
              "      <td>448.0</td>\n",
              "      <td>126.0</td>\n",
              "      <td>1970.0</td>\n",
              "      <td>-37.57565</td>\n",
              "      <td>144.91365</td>\n",
              "      <td>15510.0</td>\n",
              "      <td>0</td>\n",
              "      <td>0</td>\n",
              "      <td>1</td>\n",
              "      <td>0</td>\n",
              "      <td>0</td>\n",
              "      <td>0</td>\n",
              "      <td>0</td>\n",
              "      <td>0</td>\n",
              "      <td>1</td>\n",
              "      <td>0</td>\n",
              "      <td>0</td>\n",
              "    </tr>\n",
              "  </tbody>\n",
              "</table>\n",
              "</div>"
            ],
            "text/plain": [
              "       Suburb  Rooms  Method  ...  Type_h  Type_t  Type_u\n",
              "1913       80      3       1  ...       1       0       0\n",
              "12104     213      3       1  ...       0       0       1\n",
              "8518      299      4       3  ...       1       0       0\n",
              "127         7      2       1  ...       0       0       1\n",
              "12948      84      4       1  ...       1       0       0\n",
              "\n",
              "[5 rows x 25 columns]"
            ]
          },
          "metadata": {},
          "execution_count": 67
        }
      ]
    },
    {
      "cell_type": "markdown",
      "metadata": {
        "id": "Ua1AB-w10_Qx"
      },
      "source": [
        "Вот и все. Давайте убедимся, что в нашем датасете не осталось ни пропусков, ни категориальных признаков:"
      ]
    },
    {
      "cell_type": "code",
      "metadata": {
        "colab": {
          "base_uri": "https://localhost:8080/"
        },
        "id": "Mm5dSppp0t7P",
        "outputId": "196d96c2-dd4c-4f97-c759-4d440cb77804"
      },
      "source": [
        "X_train.info()"
      ],
      "execution_count": null,
      "outputs": [
        {
          "output_type": "stream",
          "text": [
            "<class 'pandas.core.frame.DataFrame'>\n",
            "Int64Index: 10864 entries, 1913 to 8709\n",
            "Data columns (total 25 columns):\n",
            " #   Column                                 Non-Null Count  Dtype  \n",
            "---  ------                                 --------------  -----  \n",
            " 0   Suburb                                 10864 non-null  int64  \n",
            " 1   Rooms                                  10864 non-null  int64  \n",
            " 2   Method                                 10864 non-null  int64  \n",
            " 3   Distance                               10864 non-null  float64\n",
            " 4   Postcode                               10864 non-null  float64\n",
            " 5   Bedroom2                               10864 non-null  float64\n",
            " 6   Bathroom                               10864 non-null  float64\n",
            " 7   Car                                    10864 non-null  float64\n",
            " 8   Landsize                               10864 non-null  float64\n",
            " 9   BuildingArea                           10864 non-null  float64\n",
            " 10  YearBuilt                              10864 non-null  float64\n",
            " 11  Lattitude                              10864 non-null  float64\n",
            " 12  Longtitude                             10864 non-null  float64\n",
            " 13  Propertycount                          10864 non-null  float64\n",
            " 14  Regionname_Eastern Metropolitan        10864 non-null  uint8  \n",
            " 15  Regionname_Eastern Victoria            10864 non-null  uint8  \n",
            " 16  Regionname_Northern Metropolitan       10864 non-null  uint8  \n",
            " 17  Regionname_Northern Victoria           10864 non-null  uint8  \n",
            " 18  Regionname_South-Eastern Metropolitan  10864 non-null  uint8  \n",
            " 19  Regionname_Southern Metropolitan       10864 non-null  uint8  \n",
            " 20  Regionname_Western Metropolitan        10864 non-null  uint8  \n",
            " 21  Regionname_Western Victoria            10864 non-null  uint8  \n",
            " 22  Type_h                                 10864 non-null  uint8  \n",
            " 23  Type_t                                 10864 non-null  uint8  \n",
            " 24  Type_u                                 10864 non-null  uint8  \n",
            "dtypes: float64(11), int64(3), uint8(11)\n",
            "memory usage: 1.4 MB\n"
          ],
          "name": "stdout"
        }
      ]
    },
    {
      "cell_type": "markdown",
      "metadata": {
        "id": "_faaO2DV1OfU"
      },
      "source": [
        "Отлично! Теперь можно обучать на этом датасете модели машинного обучения =)"
      ]
    },
    {
      "cell_type": "markdown",
      "metadata": {
        "id": "mHo6_Sf71XXR"
      },
      "source": [
        "## Обучение моделей"
      ]
    },
    {
      "cell_type": "markdown",
      "metadata": {
        "id": "bjhnCwxs1nwc"
      },
      "source": [
        "Наща задача — задача регрессии. Для ее решения мы будем использовать такие модели машинного обучения, как линейная регрессия и случайный лес."
      ]
    },
    {
      "cell_type": "markdown",
      "metadata": {
        "id": "dCW1XXjg1hv4"
      },
      "source": [
        "### Линейная регрессия"
      ]
    },
    {
      "cell_type": "code",
      "metadata": {
        "id": "GImEvuOh1d9k"
      },
      "source": [
        "from sklearn.linear_model import LinearRegression"
      ],
      "execution_count": null,
      "outputs": []
    },
    {
      "cell_type": "code",
      "metadata": {
        "id": "cMw9qc5F1yYb"
      },
      "source": [
        "lr = LinearRegression()"
      ],
      "execution_count": null,
      "outputs": []
    },
    {
      "cell_type": "code",
      "metadata": {
        "colab": {
          "base_uri": "https://localhost:8080/"
        },
        "id": "bdJTzGSD108W",
        "outputId": "8b5b79b6-301c-47ff-c81a-a3d89c30e3d6"
      },
      "source": [
        "lr.fit(X_train, y_train)"
      ],
      "execution_count": null,
      "outputs": [
        {
          "output_type": "execute_result",
          "data": {
            "text/plain": [
              "LinearRegression(copy_X=True, fit_intercept=True, n_jobs=None, normalize=False)"
            ]
          },
          "metadata": {},
          "execution_count": 71
        }
      ]
    },
    {
      "cell_type": "markdown",
      "metadata": {
        "id": "b3BFF7sE2GDs"
      },
      "source": [
        "### Случайный лес"
      ]
    },
    {
      "cell_type": "code",
      "metadata": {
        "id": "s40ui79i1aHJ"
      },
      "source": [
        "from sklearn.ensemble import RandomForestRegressor"
      ],
      "execution_count": null,
      "outputs": []
    },
    {
      "cell_type": "code",
      "metadata": {
        "id": "nQ8B3GuU2J3w"
      },
      "source": [
        "rf = RandomForestRegressor(n_estimators=100, max_depth=7)"
      ],
      "execution_count": null,
      "outputs": []
    },
    {
      "cell_type": "code",
      "metadata": {
        "colab": {
          "base_uri": "https://localhost:8080/"
        },
        "id": "iGoo8g5u2PYQ",
        "outputId": "95270422-f1c3-4280-a52b-a8d18d80c29d"
      },
      "source": [
        "rf.fit(X_train, y_train)"
      ],
      "execution_count": null,
      "outputs": [
        {
          "output_type": "execute_result",
          "data": {
            "text/plain": [
              "RandomForestRegressor(bootstrap=True, ccp_alpha=0.0, criterion='mse',\n",
              "                      max_depth=7, max_features='auto', max_leaf_nodes=None,\n",
              "                      max_samples=None, min_impurity_decrease=0.0,\n",
              "                      min_impurity_split=None, min_samples_leaf=1,\n",
              "                      min_samples_split=2, min_weight_fraction_leaf=0.0,\n",
              "                      n_estimators=100, n_jobs=None, oob_score=False,\n",
              "                      random_state=None, verbose=0, warm_start=False)"
            ]
          },
          "metadata": {},
          "execution_count": 75
        }
      ]
    },
    {
      "cell_type": "markdown",
      "metadata": {
        "id": "n7le4y7J2Uoe"
      },
      "source": [
        "Мы обучили модели машинного обучения на тренировочных данных. Чтобы можно было тестировать эти модели на тестовых данных, тестовые данные нужно сначала предобработать точно так же, как тренировочные. "
      ]
    },
    {
      "cell_type": "markdown",
      "metadata": {
        "id": "3ZTAiG_52R-i"
      },
      "source": [
        "## Подготовка тестовых данных"
      ]
    },
    {
      "cell_type": "code",
      "metadata": {
        "colab": {
          "base_uri": "https://localhost:8080/",
          "height": 369
        },
        "id": "FXGbAzUR29FK",
        "outputId": "c80464a8-6c4f-421f-e31e-ba361d8ea413"
      },
      "source": [
        "X_test.head()"
      ],
      "execution_count": null,
      "outputs": [
        {
          "output_type": "execute_result",
          "data": {
            "text/html": [
              "<div>\n",
              "<style scoped>\n",
              "    .dataframe tbody tr th:only-of-type {\n",
              "        vertical-align: middle;\n",
              "    }\n",
              "\n",
              "    .dataframe tbody tr th {\n",
              "        vertical-align: top;\n",
              "    }\n",
              "\n",
              "    .dataframe thead th {\n",
              "        text-align: right;\n",
              "    }\n",
              "</style>\n",
              "<table border=\"1\" class=\"dataframe\">\n",
              "  <thead>\n",
              "    <tr style=\"text-align: right;\">\n",
              "      <th></th>\n",
              "      <th>Suburb</th>\n",
              "      <th>Address</th>\n",
              "      <th>Rooms</th>\n",
              "      <th>Type</th>\n",
              "      <th>Method</th>\n",
              "      <th>SellerG</th>\n",
              "      <th>Date</th>\n",
              "      <th>Distance</th>\n",
              "      <th>Postcode</th>\n",
              "      <th>Bedroom2</th>\n",
              "      <th>Bathroom</th>\n",
              "      <th>Car</th>\n",
              "      <th>Landsize</th>\n",
              "      <th>BuildingArea</th>\n",
              "      <th>YearBuilt</th>\n",
              "      <th>CouncilArea</th>\n",
              "      <th>Lattitude</th>\n",
              "      <th>Longtitude</th>\n",
              "      <th>Regionname</th>\n",
              "      <th>Propertycount</th>\n",
              "    </tr>\n",
              "  </thead>\n",
              "  <tbody>\n",
              "    <tr>\n",
              "      <th>7010</th>\n",
              "      <td>Hawthorn East</td>\n",
              "      <td>4/43 Clifton Rd</td>\n",
              "      <td>2</td>\n",
              "      <td>u</td>\n",
              "      <td>S</td>\n",
              "      <td>hockingstuart</td>\n",
              "      <td>22/08/2016</td>\n",
              "      <td>7.5</td>\n",
              "      <td>3123.0</td>\n",
              "      <td>2.0</td>\n",
              "      <td>1.0</td>\n",
              "      <td>1.0</td>\n",
              "      <td>172.0</td>\n",
              "      <td>90.0</td>\n",
              "      <td>1960.0</td>\n",
              "      <td>Boroondara</td>\n",
              "      <td>-37.84370</td>\n",
              "      <td>145.05360</td>\n",
              "      <td>Southern Metropolitan</td>\n",
              "      <td>6482.0</td>\n",
              "    </tr>\n",
              "    <tr>\n",
              "      <th>3806</th>\n",
              "      <td>Malvern</td>\n",
              "      <td>50 Hunter St</td>\n",
              "      <td>4</td>\n",
              "      <td>h</td>\n",
              "      <td>S</td>\n",
              "      <td>Marshall</td>\n",
              "      <td>25/02/2017</td>\n",
              "      <td>7.4</td>\n",
              "      <td>3144.0</td>\n",
              "      <td>4.0</td>\n",
              "      <td>3.0</td>\n",
              "      <td>2.0</td>\n",
              "      <td>585.0</td>\n",
              "      <td>248.0</td>\n",
              "      <td>1915.0</td>\n",
              "      <td>Stonnington</td>\n",
              "      <td>-37.86800</td>\n",
              "      <td>145.03800</td>\n",
              "      <td>Southern Metropolitan</td>\n",
              "      <td>4675.0</td>\n",
              "    </tr>\n",
              "    <tr>\n",
              "      <th>9812</th>\n",
              "      <td>Brunswick</td>\n",
              "      <td>40 Blair St</td>\n",
              "      <td>2</td>\n",
              "      <td>h</td>\n",
              "      <td>VB</td>\n",
              "      <td>Nelson</td>\n",
              "      <td>24/06/2017</td>\n",
              "      <td>5.2</td>\n",
              "      <td>3056.0</td>\n",
              "      <td>2.0</td>\n",
              "      <td>1.0</td>\n",
              "      <td>0.0</td>\n",
              "      <td>191.0</td>\n",
              "      <td>NaN</td>\n",
              "      <td>NaN</td>\n",
              "      <td>Moreland</td>\n",
              "      <td>-37.77012</td>\n",
              "      <td>144.96476</td>\n",
              "      <td>Northern Metropolitan</td>\n",
              "      <td>11918.0</td>\n",
              "    </tr>\n",
              "    <tr>\n",
              "      <th>998</th>\n",
              "      <td>Box Hill</td>\n",
              "      <td>3/8 Ashted Rd</td>\n",
              "      <td>2</td>\n",
              "      <td>u</td>\n",
              "      <td>S</td>\n",
              "      <td>Philip</td>\n",
              "      <td>19/11/2016</td>\n",
              "      <td>13.1</td>\n",
              "      <td>3128.0</td>\n",
              "      <td>2.0</td>\n",
              "      <td>1.0</td>\n",
              "      <td>1.0</td>\n",
              "      <td>151.0</td>\n",
              "      <td>82.0</td>\n",
              "      <td>1970.0</td>\n",
              "      <td>Whitehorse</td>\n",
              "      <td>-37.82340</td>\n",
              "      <td>145.12350</td>\n",
              "      <td>Eastern Metropolitan</td>\n",
              "      <td>4605.0</td>\n",
              "    </tr>\n",
              "    <tr>\n",
              "      <th>12250</th>\n",
              "      <td>Bundoora</td>\n",
              "      <td>1188 Plenty Rd</td>\n",
              "      <td>3</td>\n",
              "      <td>h</td>\n",
              "      <td>SP</td>\n",
              "      <td>Stockdale</td>\n",
              "      <td>3/09/2017</td>\n",
              "      <td>12.1</td>\n",
              "      <td>3083.0</td>\n",
              "      <td>3.0</td>\n",
              "      <td>1.0</td>\n",
              "      <td>1.0</td>\n",
              "      <td>541.0</td>\n",
              "      <td>120.0</td>\n",
              "      <td>1960.0</td>\n",
              "      <td>NaN</td>\n",
              "      <td>-37.70603</td>\n",
              "      <td>145.05423</td>\n",
              "      <td>Northern Metropolitan</td>\n",
              "      <td>10175.0</td>\n",
              "    </tr>\n",
              "  </tbody>\n",
              "</table>\n",
              "</div>"
            ],
            "text/plain": [
              "              Suburb          Address  ...             Regionname Propertycount\n",
              "7010   Hawthorn East  4/43 Clifton Rd  ...  Southern Metropolitan        6482.0\n",
              "3806         Malvern     50 Hunter St  ...  Southern Metropolitan        4675.0\n",
              "9812       Brunswick      40 Blair St  ...  Northern Metropolitan       11918.0\n",
              "998         Box Hill    3/8 Ashted Rd  ...   Eastern Metropolitan        4605.0\n",
              "12250       Bundoora   1188 Plenty Rd  ...  Northern Metropolitan       10175.0\n",
              "\n",
              "[5 rows x 20 columns]"
            ]
          },
          "metadata": {},
          "execution_count": 76
        }
      ]
    },
    {
      "cell_type": "markdown",
      "metadata": {
        "id": "oin_1_9e2kyM"
      },
      "source": [
        "Ниже в ячейках производится предобработка тестовых данных. Она точно такая же, как для тренировочных: пропуски в колонках заменяются теми же значениями, какими они заменялись в тренировочных данных, категориальные признаки предобрабатываются теми же способоами, какими они обрабатывались в тренировочной части данных."
      ]
    },
    {
      "cell_type": "code",
      "metadata": {
        "colab": {
          "base_uri": "https://localhost:8080/"
        },
        "id": "Zc8Ct7N022b3",
        "outputId": "919cd8ba-ae2e-4962-d780-87456ae8afee"
      },
      "source": [
        "# Car, BuildingArea и YearBuilt — числовые признаки, поэтому заполняем пропуски медианами по столбцам\n",
        "X_test['Car'] = X_test['Car'].fillna(X_train['Car'].median())\n",
        "X_test['BuildingArea'] = X_test['BuildingArea'].fillna(X_train['BuildingArea'].median())\n",
        "X_test['YearBuilt'] = X_test['YearBuilt'].fillna(X_train['YearBuilt'].median())\n",
        "\n",
        "# CouncilArea — категориальный признак, поэтому заполним наны самым часто встречающимся значением по столбцу\n",
        "\n",
        "# заполняем наны в столбце CouncilArea полученным значением\n",
        "X_test['CouncilArea'] = X_test['CouncilArea'].fillna(most_frequent_value)"
      ],
      "execution_count": null,
      "outputs": [
        {
          "output_type": "stream",
          "text": [
            "/usr/local/lib/python3.7/dist-packages/ipykernel_launcher.py:2: SettingWithCopyWarning: \n",
            "A value is trying to be set on a copy of a slice from a DataFrame.\n",
            "Try using .loc[row_indexer,col_indexer] = value instead\n",
            "\n",
            "See the caveats in the documentation: https://pandas.pydata.org/pandas-docs/stable/user_guide/indexing.html#returning-a-view-versus-a-copy\n",
            "  \n",
            "/usr/local/lib/python3.7/dist-packages/ipykernel_launcher.py:3: SettingWithCopyWarning: \n",
            "A value is trying to be set on a copy of a slice from a DataFrame.\n",
            "Try using .loc[row_indexer,col_indexer] = value instead\n",
            "\n",
            "See the caveats in the documentation: https://pandas.pydata.org/pandas-docs/stable/user_guide/indexing.html#returning-a-view-versus-a-copy\n",
            "  This is separate from the ipykernel package so we can avoid doing imports until\n",
            "/usr/local/lib/python3.7/dist-packages/ipykernel_launcher.py:4: SettingWithCopyWarning: \n",
            "A value is trying to be set on a copy of a slice from a DataFrame.\n",
            "Try using .loc[row_indexer,col_indexer] = value instead\n",
            "\n",
            "See the caveats in the documentation: https://pandas.pydata.org/pandas-docs/stable/user_guide/indexing.html#returning-a-view-versus-a-copy\n",
            "  after removing the cwd from sys.path.\n",
            "/usr/local/lib/python3.7/dist-packages/ipykernel_launcher.py:9: SettingWithCopyWarning: \n",
            "A value is trying to be set on a copy of a slice from a DataFrame.\n",
            "Try using .loc[row_indexer,col_indexer] = value instead\n",
            "\n",
            "See the caveats in the documentation: https://pandas.pydata.org/pandas-docs/stable/user_guide/indexing.html#returning-a-view-versus-a-copy\n",
            "  if __name__ == '__main__':\n"
          ],
          "name": "stderr"
        }
      ]
    },
    {
      "cell_type": "code",
      "metadata": {
        "colab": {
          "base_uri": "https://localhost:8080/"
        },
        "id": "gREkr9Oh3LvI",
        "outputId": "2fefec02-013d-4c15-be14-787841faccbb"
      },
      "source": [
        "X_test['Suburb'] = X_test['Suburb'].apply(lambda x: dict_[x])"
      ],
      "execution_count": null,
      "outputs": [
        {
          "output_type": "stream",
          "text": [
            "/usr/local/lib/python3.7/dist-packages/ipykernel_launcher.py:1: SettingWithCopyWarning: \n",
            "A value is trying to be set on a copy of a slice from a DataFrame.\n",
            "Try using .loc[row_indexer,col_indexer] = value instead\n",
            "\n",
            "See the caveats in the documentation: https://pandas.pydata.org/pandas-docs/stable/user_guide/indexing.html#returning-a-view-versus-a-copy\n",
            "  \"\"\"Entry point for launching an IPython kernel.\n"
          ],
          "name": "stderr"
        }
      ]
    },
    {
      "cell_type": "code",
      "metadata": {
        "colab": {
          "base_uri": "https://localhost:8080/"
        },
        "id": "jnoDDP6a35Vm",
        "outputId": "19107178-3c7f-4b1d-e795-e6bde7523b5b"
      },
      "source": [
        "X_test['Method'] = le.transform(X_test['Method'])"
      ],
      "execution_count": null,
      "outputs": [
        {
          "output_type": "stream",
          "text": [
            "/usr/local/lib/python3.7/dist-packages/ipykernel_launcher.py:1: SettingWithCopyWarning: \n",
            "A value is trying to be set on a copy of a slice from a DataFrame.\n",
            "Try using .loc[row_indexer,col_indexer] = value instead\n",
            "\n",
            "See the caveats in the documentation: https://pandas.pydata.org/pandas-docs/stable/user_guide/indexing.html#returning-a-view-versus-a-copy\n",
            "  \"\"\"Entry point for launching an IPython kernel.\n"
          ],
          "name": "stderr"
        }
      ]
    },
    {
      "cell_type": "code",
      "metadata": {
        "id": "fOV_lb5c5KFv"
      },
      "source": [
        "X_test = pd.get_dummies(X_test, columns=['Regionname', 'Type'])"
      ],
      "execution_count": null,
      "outputs": []
    },
    {
      "cell_type": "code",
      "metadata": {
        "id": "GBoBl4Q95bNT"
      },
      "source": [
        "X_test = X_test.drop(columns = ['Address', 'Date', 'CouncilArea', 'SellerG'])"
      ],
      "execution_count": null,
      "outputs": []
    },
    {
      "cell_type": "markdown",
      "metadata": {
        "id": "pmNHnvLP5jAA"
      },
      "source": [
        "## Получение предсказаний на тестовом датасете"
      ]
    },
    {
      "cell_type": "markdown",
      "metadata": {
        "id": "2CAusL825oiA"
      },
      "source": [
        "Теперь мы готовы подать тестовые данные на вход обученным моделям и получить предсказания:"
      ]
    },
    {
      "cell_type": "code",
      "metadata": {
        "id": "NGpGt0_f5nDC"
      },
      "source": [
        "y_predicted_linreg = lr.predict(X_test)"
      ],
      "execution_count": null,
      "outputs": []
    },
    {
      "cell_type": "code",
      "metadata": {
        "colab": {
          "base_uri": "https://localhost:8080/"
        },
        "id": "sT7rVJ8f51mn",
        "outputId": "3b320b10-1491-4400-a6d0-e7a68ce53df7"
      },
      "source": [
        "y_predicted_linreg[:10]"
      ],
      "execution_count": null,
      "outputs": [
        {
          "output_type": "execute_result",
          "data": {
            "text/plain": [
              "array([ 810005.76418291, 2219648.8128207 ,  882898.78741448,\n",
              "        399063.64603299,  838286.87875476, 2066842.66698027,\n",
              "         49625.03667176, 2049499.87933287, 1531154.53277078,\n",
              "       1992508.6022613 ])"
            ]
          },
          "metadata": {},
          "execution_count": 83
        }
      ]
    },
    {
      "cell_type": "code",
      "metadata": {
        "colab": {
          "base_uri": "https://localhost:8080/"
        },
        "id": "qmAW9f43531n",
        "outputId": "3c38d4b7-d0cc-486a-82ce-4885fdf00e2e"
      },
      "source": [
        "np.array(y_test)[:10]"
      ],
      "execution_count": null,
      "outputs": [
        {
          "output_type": "execute_result",
          "data": {
            "text/plain": [
              "array([ 706000., 3470000.,  900000.,  636000.,  715000., 1565000.,\n",
              "        185000., 2000000., 2350000., 2900000.])"
            ]
          },
          "metadata": {},
          "execution_count": 84
        }
      ]
    },
    {
      "cell_type": "code",
      "metadata": {
        "id": "hR5Fdwhy5ztI"
      },
      "source": [
        "y_predicted_rf = rf.predict(X_test)"
      ],
      "execution_count": null,
      "outputs": []
    },
    {
      "cell_type": "code",
      "metadata": {
        "colab": {
          "base_uri": "https://localhost:8080/"
        },
        "id": "xteFdphN55f-",
        "outputId": "a7b80323-0584-4be3-8bda-ee86d6a9627a"
      },
      "source": [
        "y_predicted_rf[:10]"
      ],
      "execution_count": null,
      "outputs": [
        {
          "output_type": "execute_result",
          "data": {
            "text/plain": [
              "array([ 670625.75287886, 2283503.96283337,  922294.73244047,\n",
              "        663677.08401593,  651500.61760549, 1824368.30732376,\n",
              "        253591.27478753, 1415986.51220637, 1288285.54853192,\n",
              "       1972244.63525818])"
            ]
          },
          "metadata": {},
          "execution_count": 86
        }
      ]
    },
    {
      "cell_type": "code",
      "metadata": {
        "colab": {
          "base_uri": "https://localhost:8080/"
        },
        "id": "gmAaIh1c59Wt",
        "outputId": "bfe9c203-9981-428c-eb54-2791f84bcb43"
      },
      "source": [
        "np.array(y_test)[:10]"
      ],
      "execution_count": null,
      "outputs": [
        {
          "output_type": "execute_result",
          "data": {
            "text/plain": [
              "array([ 706000., 3470000.,  900000.,  636000.,  715000., 1565000.,\n",
              "        185000., 2000000., 2350000., 2900000.])"
            ]
          },
          "metadata": {},
          "execution_count": 87
        }
      ]
    },
    {
      "cell_type": "markdown",
      "metadata": {
        "id": "HMr0zTNr5-9F"
      },
      "source": [
        "## Метрики качества"
      ]
    },
    {
      "cell_type": "markdown",
      "metadata": {
        "id": "e4vu0Xmr6BIO"
      },
      "source": [
        "Эта задача — задача регрессии, поэтому мы будем вычислять метрики регрессии. Вычислим [MSE](https://en.wikipedia.org/wiki/Mean_squared_error) и [MAE](https://en.wikipedia.org/wiki/Mean_absolute_error)."
      ]
    },
    {
      "cell_type": "code",
      "metadata": {
        "id": "A1lYKKg86ItT"
      },
      "source": [
        "from sklearn.metrics import mean_absolute_error, mean_squared_error"
      ],
      "execution_count": null,
      "outputs": []
    },
    {
      "cell_type": "code",
      "metadata": {
        "colab": {
          "base_uri": "https://localhost:8080/"
        },
        "id": "74LK3YYD6N6r",
        "outputId": "18e92164-ffc2-46ec-f416-03339c00782e"
      },
      "source": [
        "mean_absolute_error(y_predicted_linreg, y_test)"
      ],
      "execution_count": null,
      "outputs": [
        {
          "output_type": "execute_result",
          "data": {
            "text/plain": [
              "264427.448641244"
            ]
          },
          "metadata": {},
          "execution_count": 89
        }
      ]
    },
    {
      "cell_type": "code",
      "metadata": {
        "colab": {
          "base_uri": "https://localhost:8080/"
        },
        "id": "PIc11KoI6TEU",
        "outputId": "410e33d5-31a2-4455-a32d-37be0e8e0150"
      },
      "source": [
        "mean_squared_error(y_predicted_linreg, y_test)"
      ],
      "execution_count": null,
      "outputs": [
        {
          "output_type": "execute_result",
          "data": {
            "text/plain": [
              "154800574636.89548"
            ]
          },
          "metadata": {},
          "execution_count": 90
        }
      ]
    },
    {
      "cell_type": "code",
      "metadata": {
        "colab": {
          "base_uri": "https://localhost:8080/"
        },
        "id": "MmneXZou6WW4",
        "outputId": "098bd061-b4fd-427b-cc4c-425fea1950a9"
      },
      "source": [
        "mean_absolute_error(y_predicted_rf, y_test)"
      ],
      "execution_count": null,
      "outputs": [
        {
          "output_type": "execute_result",
          "data": {
            "text/plain": [
              "198758.8021023104"
            ]
          },
          "metadata": {},
          "execution_count": 91
        }
      ]
    },
    {
      "cell_type": "code",
      "metadata": {
        "colab": {
          "base_uri": "https://localhost:8080/"
        },
        "id": "9oGdX5a_6YUo",
        "outputId": "aedf58ed-0f55-4d5e-90e1-db2fc8d042d2"
      },
      "source": [
        "mean_squared_error(y_predicted_rf, y_test)"
      ],
      "execution_count": null,
      "outputs": [
        {
          "output_type": "execute_result",
          "data": {
            "text/plain": [
              "96339170572.79895"
            ]
          },
          "metadata": {},
          "execution_count": 92
        }
      ]
    },
    {
      "cell_type": "markdown",
      "metadata": {
        "id": "IGEzOS_o6tqF"
      },
      "source": [
        "Видим, что Random Forest справляется с задачей чуть лучше, чем линейная регрессия."
      ]
    },
    {
      "cell_type": "markdown",
      "metadata": {
        "id": "gFUpPNjtn2jt"
      },
      "source": [
        "Вот и все, мы прошли путь от загрузки данных, их предобработки, обучения модели и получения предсказаний. "
      ]
    },
    {
      "cell_type": "markdown",
      "metadata": {
        "id": "mSlhy7hv1UH5"
      },
      "source": [
        "## Допглавы предобработки признаков"
      ]
    },
    {
      "cell_type": "markdown",
      "metadata": {
        "id": "WFMPShSa_4XQ"
      },
      "source": [
        "### Генерация новых признаков"
      ]
    },
    {
      "cell_type": "markdown",
      "metadata": {
        "id": "Y_42aqp___ev"
      },
      "source": [
        "При предобработке датасета часто полезно не только обрабатывать существующие признаки, но и добавлять новые признаки и удалять ненужные. \n",
        "\n",
        "Не существует универсального алгоритма, какие признаки нужно удалить, и каким образом сгенерировать новые признаки. То, удалять признак или нет, и как получать новые признаки, зависит от вашего понимания данных. Если вы понимаете, что какой-то признак не несет много смысла и может только запутать модель — удаляйте. А если вам кажется, что новый признак, добавленный в датасет, поможет модели — добавляйте.\n",
        "\n",
        "Примеры удаления и добавления признаков:\n",
        "\n",
        "- **пример #1**. Допустим, вы решаете задачу кредитного скоринга: учите модель по информации о человеке понимать, дать человеку кредит или нет. Среди признаков в вашем датасете есть признаки \"имя человека\" и \"количество домашних питомцев\". Кажется, что эти признаки можно (и даже лучше) удалить из датасета, потому что они не имеют никакого отношения к тому, насколько вероятно человек вернет кредит. И модели эти признаки принять решение никак не помогут.\n",
        "\n",
        "- **пример #2**. Допустим, вы решаете задачу предсказания сердечно-сосудистых заболеваний (ССЗ). И в вашем датасете есть признаки \"рост\" и \"вес\". Из этих двух признаков можно составить третий — ИМТ (индекс массы тела), который равен $\\frac{Вес/2.205}{Рост^2/39.37^2}$. Возможно, с этим признаком в датасете модели будет проще вывести зависимость между параметрами человека и наличием у него ССЗ.\n",
        "\n",
        "Часто не сразу понятно, будет ли тот или иной признак полезен модели при обучении. Например, сходу до конца неясно, будет ли признак ИМТ действительно полезен модели для предсказания ССЗ. Поэтому нужно ставить эксперименты: обучать и тестировать модель с и без признака, и смотреть, как модель ведет себя лучше. У вас может быть очень много идей разных признаков и очень много экспериментов. И это нормально: вспомните, дата саентист тратить больше 50% своего времени на обработку данных. "
      ]
    },
    {
      "cell_type": "markdown",
      "metadata": {
        "id": "nOiDeZcgE-F5"
      },
      "source": [
        "Несмотря на то, что часто мы генерируем признаки, исходя из нашего понимания задачи и природы данных, некоторые автоматические методы генерации признаков все же существуют. \n",
        "\n",
        "В библитеке **sklearn** есть модуль preprocessing, в котором собраны методы для предобработки данных, в том числе и для генерации новых признаков. Со всеми методами этого модуля можете познакомиться в документации по ссылке: http://scikit-learn.org/stable/modules/preprocessing.html\n",
        "А здесь мы рассмотрим один метод генерации новых признаков: класс **PolynomialFeatures**"
      ]
    },
    {
      "cell_type": "markdown",
      "metadata": {
        "id": "H3DmexzfFyM7"
      },
      "source": [
        "**PolynomialFeatures** — метод, который принимает на вход **числовые** признаки и генерирует на их основе всевозможные полиномы из этих признаков до определенной степени (степень задается параметром degree). \n",
        "Например, если у нас в датасете есть два признака: $x$, $y$, и мы генерируем на их основе полиномиальные признаки до степени 2, то в результате получим 6 признаков: \n",
        "\n",
        "1 (колонка из всех единиц), $x$, $y$, $x^2$, $y^2$, $xy$. \n",
        "\n",
        "Если степень = 3, то получим уже 10 признаков: \n",
        "\n",
        "1, $x$, $y$, $x^2$, $y^2$, $xy$, $x^3$, $y^3$, $x^2y$, $xy^2$.\n",
        "\n",
        "Давайте посмотрим, как это работает:"
      ]
    },
    {
      "cell_type": "code",
      "metadata": {
        "id": "66JWiQFfzOUO"
      },
      "source": [
        "from sklearn.preprocessing import PolynomialFeatures\n",
        "\n",
        "poly = PolynomialFeatures(degree=3, include_bias=False) # include_bias=False исключает колонку из всех единиц в полученном результате"
      ],
      "execution_count": null,
      "outputs": []
    },
    {
      "cell_type": "markdown",
      "metadata": {
        "id": "Uhlib9AZHMm9"
      },
      "source": [
        "Чтобы не плодить очень много признаков, давайте возьмем из нашего датасета два признака и получим из них полиномиальные признаки до степени 3:"
      ]
    },
    {
      "cell_type": "code",
      "metadata": {
        "id": "i2xxDmyeUWy_"
      },
      "source": [
        "X_train_slice = X_train[['Rooms', 'Bathroom']]\n",
        "X_train_slice.head()"
      ],
      "execution_count": null,
      "outputs": []
    },
    {
      "cell_type": "code",
      "metadata": {
        "id": "z_WhqoOcUeJx"
      },
      "source": [
        "poly.fit(X_train_slice )"
      ],
      "execution_count": null,
      "outputs": []
    },
    {
      "cell_type": "markdown",
      "metadata": {
        "id": "OjJbZ8lNHaOY"
      },
      "source": [
        "Полученный результат:\n",
        "\n",
        "видим, что получили 9 признаков (без колонки из всех единиц)"
      ]
    },
    {
      "cell_type": "code",
      "metadata": {
        "id": "tObehSU9UiaY"
      },
      "source": [
        "pd.DataFrame(poly.transform(X_train_slice)).head()"
      ],
      "execution_count": null,
      "outputs": []
    },
    {
      "cell_type": "markdown",
      "metadata": {
        "id": "PYb25Q-XHjZc"
      },
      "source": [
        "После получения полиномиальных признаков их можно добавить к оставшимся признаками датасета и обучать модель. Но в таком виде модель вряд ли обучится хорошо: признаков стало слишком много. Поэтому после генерации полиномиальных признаков прежде чем обучать модель нужно отобрать из них самые удачные, т.е. те, которые дают больше всего пользы для обучения модели. \n",
        "\n",
        "Сделать это можно разными способами, но самый простой — обучить на этих признаках какую-нибудь простую модель (например, линейную или логистическую регрессию), посмотреть на важность каждого из полиномиальных признаков для обученной модели и оставить несколько самых важных. И уже на этих оставленных признаках обучать более сложную модель. "
      ]
    },
    {
      "cell_type": "markdown",
      "metadata": {
        "id": "TE2waTusrNPB"
      },
      "source": [
        "### Скелинг и нормализация признаков"
      ]
    },
    {
      "cell_type": "markdown",
      "metadata": {
        "id": "IAJzn_pTrWQW"
      },
      "source": [
        "Кроме удаления коррелирующих признаков для некоторых линейных моделей важна нормализация признаков. \n",
        "\n",
        "Что это такое на примере: давайте рассмотрим признаки \"возраст\" и \"зарплата\" в датасете. Признак \"возраст\" может варьироваться от 0 до 100 (условно), признак \"зарплата\" — от 0 до 500000 (также условно). Получается, что у этих двух признаков бывают очень разные по модулю значения. \n",
        "\n",
        "Для некоторых моделей: деревьев, обычных линейных моделей и кнн, эта особенность неважна. Но есть модели, которые страдают от того, что признаки в датасете могут сильно отличаться по модулю. Это линейные модели с регуляризацией: Lasso и Ridge. \n",
        "\n",
        "Привести признаки в вид, когда они будут варьироваться примерно в одном диапазоне, просто. Достаточно просто взять самое большое по модулю значение признака и поделить весь столбец признака на это значение. Тогда признаки будут варьироваться от -1 до 1. Но такой подход не всегда оптимален. Например, если в признаке \"зарплата\" почти у всех людей зарплата варьируется от 0 до 100, а у 10% людей зарплата составляет >100000, то при делении всего столбца зарплаты на 100000, зарплата 90% датасета превратится практически в ноль. \n",
        "\n",
        "В библиотеке sklearn есть несколько методов для скэлирования данных: StandardScaler, MinMaxScaler, RobustScaler и т.д. Найти их все и почитать о них можно в том же модуле preprocessing: https://scikit-learn.org/stable/modules/preprocessing.html"
      ]
    },
    {
      "cell_type": "markdown",
      "metadata": {
        "id": "fLHd9pL7tYM9"
      },
      "source": [
        "Давайте посмотрим, как их использовать, на примере RobustScaler:"
      ]
    },
    {
      "cell_type": "code",
      "metadata": {
        "id": "mKRmN7F7ksVm"
      },
      "source": [
        "from sklearn.preprocessing import StandardScaler, RobustScaler, MinMaxScaler"
      ],
      "execution_count": null,
      "outputs": []
    },
    {
      "cell_type": "code",
      "metadata": {
        "id": "Gfz639jWltlV"
      },
      "source": [
        "scaler = RobustScaler()\n",
        "# скэлируем только часть признаков датасета. Скэлировать можно только числовые признаки!!\n",
        "scaler.fit(X_train.drop(['Address', 'Date', 'Type',\t'Method', 'CouncilArea', 'Regionname'], axis=1))"
      ],
      "execution_count": null,
      "outputs": []
    },
    {
      "cell_type": "code",
      "metadata": {
        "id": "wiXXlRBvlzTd"
      },
      "source": [
        "scaled_data = scaler.transform(X_train.drop(['Address', 'Date', 'Type',\t'Method', 'CouncilArea', 'Regionname'], axis=1))\n",
        "scaled_data = pd.DataFrame(scaled_data, columns = X_train.drop(['Address', 'Date', 'Type',\t'Method', 'CouncilArea', 'Regionname'], axis=1).columns).head()"
      ],
      "execution_count": null,
      "outputs": []
    },
    {
      "cell_type": "markdown",
      "metadata": {
        "id": "eJjpLMritw0D"
      },
      "source": [
        "Итак, посомтрим, как выглядели столбцы до применения скелера:"
      ]
    },
    {
      "cell_type": "code",
      "metadata": {
        "id": "xM8Yg7EimCTh"
      },
      "source": [
        "X_train.drop(['Address', 'Date', 'Type',\t'Method', 'CouncilArea', 'Regionname'], axis=1).head()"
      ],
      "execution_count": null,
      "outputs": []
    },
    {
      "cell_type": "markdown",
      "metadata": {
        "id": "lPWToU3ft16m"
      },
      "source": [
        "И как выглядят после:"
      ]
    },
    {
      "cell_type": "code",
      "metadata": {
        "id": "Q4gmCgCRl4zA"
      },
      "source": [
        "scaled_data.head()"
      ],
      "execution_count": null,
      "outputs": []
    },
    {
      "cell_type": "markdown",
      "metadata": {
        "id": "OnxFzKZtt3rt"
      },
      "source": [
        "Видим, что значения по модулю в столбцах изменились, вариабельности выровнялись."
      ]
    },
    {
      "cell_type": "code",
      "metadata": {
        "id": "RJnx7whWoPAJ"
      },
      "source": [],
      "execution_count": null,
      "outputs": []
    }
  ]
}